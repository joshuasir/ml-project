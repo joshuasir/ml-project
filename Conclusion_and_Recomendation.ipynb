{
  "nbformat": 4,
  "nbformat_minor": 0,
  "metadata": {
    "colab": {
      "name": "Conclusion and Recomendation.ipynb",
      "provenance": [],
      "collapsed_sections": []
    },
    "kernelspec": {
      "name": "python3",
      "display_name": "Python 3"
    },
    "language_info": {
      "name": "python"
    }
  },
  "cells": [
    {
      "cell_type": "markdown",
      "metadata": {
        "id": "SldK4NxsCZLN"
      },
      "source": [
        "## Conclusion\n"
      ]
    },
    {
      "cell_type": "markdown",
      "metadata": {
        "id": "pZvEgcGA25la"
      },
      "source": [
        "From the classification models that have been tested we found XGBoost give the best result in predicting wether the stock will go up or down at a given state of the current price in this project. The lack of score can be explain as lack of features, can be in form of indicators used, bad timeframe, knowledge limitation, and lack of external information. We used only 8 indicators for this project as our feature and able to achieve a 68% precision. Given more time, knowledge, and resource this project shows promise in future endeavor."
      ]
    },
    {
      "cell_type": "markdown",
      "metadata": {
        "id": "CzWVSii1B7WB"
      },
      "source": [
        "## There are improvements to be made in the future \n",
        "\n",
        "- Consider a more broader index entry.\n",
        "- more indicators.\n",
        "- more records.\n",
        "- more balance dataset.\n",
        "\n"
      ]
    }
  ]
}
