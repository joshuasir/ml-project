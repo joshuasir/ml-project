{
  "nbformat": 4,
  "nbformat_minor": 0,
  "metadata": {
    "colab": {
      "name": "Conclusion and Recomendation.ipynb",
      "provenance": [],
      "collapsed_sections": []
    },
    "kernelspec": {
      "name": "python3",
      "display_name": "Python 3"
    },
    "language_info": {
      "name": "python"
    }
  },
  "cells": [
    {
      "cell_type": "markdown",
      "metadata": {
        "id": "SldK4NxsCZLN"
      },
      "source": [
        "## Conclusion\n"
      ]
    },
    {
      "cell_type": "markdown",
      "metadata": {
        "id": "pZvEgcGA25la"
      },
      "source": [
        "From the classification models that have been tested we found CatBoost give the best result in predicting wether the stock will go up or down at a given state of the opening price's indicators. By using 8 indicators as our features CatBoost was able to correctly predict 76% of the time. Given more time, knowledge, and resource this project shows promise in future endeavor."
      ]
    },
    {
      "cell_type": "markdown",
      "metadata": {
        "id": "CzWVSii1B7WB"
      },
      "source": [
        "## There are improvements to be made in the future \n",
        "\n",
        "- Consider a more broader index entry.\n",
        "- More records.\n",
        "- More balance dataset.\n",
        "\n"
      ]
    }
  ]
}
