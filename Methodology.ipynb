{
  "nbformat": 4,
  "nbformat_minor": 0,
  "metadata": {
    "colab": {
      "name": "Methodology.ipynb",
      "provenance": [],
      "collapsed_sections": []
    },
    "kernelspec": {
      "name": "python3",
      "display_name": "Python 3"
    },
    "language_info": {
      "name": "python"
    },
    "accelerator": "GPU"
  },
  "cells": [
    {
      "cell_type": "code",
      "metadata": {
        "colab": {
          "base_uri": "https://localhost:8080/"
        },
        "id": "zSH5Qo0UwB4N",
        "outputId": "15321ea9-33ce-404e-a91a-cac8aa31bee5"
      },
      "source": [
        "pip install catboost"
      ],
      "execution_count": 5,
      "outputs": [
        {
          "output_type": "stream",
          "text": [
            "Requirement already satisfied: catboost in /usr/local/lib/python3.7/dist-packages (0.26.1)\n",
            "Requirement already satisfied: six in /usr/local/lib/python3.7/dist-packages (from catboost) (1.15.0)\n",
            "Requirement already satisfied: matplotlib in /usr/local/lib/python3.7/dist-packages (from catboost) (3.2.2)\n",
            "Requirement already satisfied: pandas>=0.24.0 in /usr/local/lib/python3.7/dist-packages (from catboost) (1.1.5)\n",
            "Requirement already satisfied: plotly in /usr/local/lib/python3.7/dist-packages (from catboost) (4.4.1)\n",
            "Requirement already satisfied: numpy>=1.16.0 in /usr/local/lib/python3.7/dist-packages (from catboost) (1.19.5)\n",
            "Requirement already satisfied: graphviz in /usr/local/lib/python3.7/dist-packages (from catboost) (0.10.1)\n",
            "Requirement already satisfied: scipy in /usr/local/lib/python3.7/dist-packages (from catboost) (1.4.1)\n",
            "Requirement already satisfied: python-dateutil>=2.7.3 in /usr/local/lib/python3.7/dist-packages (from pandas>=0.24.0->catboost) (2.8.2)\n",
            "Requirement already satisfied: pytz>=2017.2 in /usr/local/lib/python3.7/dist-packages (from pandas>=0.24.0->catboost) (2018.9)\n",
            "Requirement already satisfied: cycler>=0.10 in /usr/local/lib/python3.7/dist-packages (from matplotlib->catboost) (0.10.0)\n",
            "Requirement already satisfied: kiwisolver>=1.0.1 in /usr/local/lib/python3.7/dist-packages (from matplotlib->catboost) (1.3.1)\n",
            "Requirement already satisfied: pyparsing!=2.0.4,!=2.1.2,!=2.1.6,>=2.0.1 in /usr/local/lib/python3.7/dist-packages (from matplotlib->catboost) (2.4.7)\n",
            "Requirement already satisfied: retrying>=1.3.3 in /usr/local/lib/python3.7/dist-packages (from plotly->catboost) (1.3.3)\n"
          ],
          "name": "stdout"
        }
      ]
    },
    {
      "cell_type": "code",
      "metadata": {
        "id": "V1wLn5vPxk-k"
      },
      "source": [
        "import pandas as pd\n",
        "from sklearn.dummy import DummyClassifier\n",
        "from sklearn.model_selection import cross_validate\n",
        "from sklearn.ensemble import RandomForestClassifier,AdaBoostClassifier\n",
        "from sklearn.linear_model import LogisticRegression\n",
        "from sklearn.tree import DecisionTreeClassifier\n",
        "from xgboost import XGBClassifier\n",
        "from catboost import CatBoostClassifier\n",
        "from lightgbm import LGBMClassifier\n",
        "from sklearn.metrics import classification_report,make_scorer,precision_score,recall_score\n",
        "from sklearn.model_selection import train_test_split,GridSearchCV\n",
        "from sklearn import metrics\n",
        "from sklearn.dummy import DummyClassifier\n",
        "from sklearn.neighbors import KNeighborsClassifier\n"
      ],
      "execution_count": 231,
      "outputs": []
    },
    {
      "cell_type": "code",
      "metadata": {
        "id": "ppCdaxlDzRDW"
      },
      "source": [
        "df = pd.read_csv('https://raw.githubusercontent.com/joshuasir/datasets/main/stock-market-train-clean.csv')\n",
        "df_test = pd.read_csv('https://raw.githubusercontent.com/joshuasir/datasets/main/stock-market-test-clean.csv')"
      ],
      "execution_count": 7,
      "outputs": []
    },
    {
      "cell_type": "code",
      "metadata": {
        "id": "YbehtcOFuJR2"
      },
      "source": [
        "X = df.copy()\n",
        "# X = df.drop(columns=['SMA'],axis=1).copy()\n",
        "y = X.pop('Target')\n",
        "X_valid = df_test.copy()\n",
        "y_valid = X_valid.pop('Target')\n",
        "\n",
        "X_train,X_test,y_train,y_test = train_test_split(X,y,test_size=0.3,stratify=y,random_state=42)"
      ],
      "execution_count": 8,
      "outputs": []
    },
    {
      "cell_type": "code",
      "metadata": {
        "id": "yN_bJe2icYbm",
        "colab": {
          "base_uri": "https://localhost:8080/"
        },
        "outputId": "0e17e3a9-83bb-4954-d49f-e9aff0a4e21b"
      },
      "source": [
        "y.value_counts()"
      ],
      "execution_count": 9,
      "outputs": [
        {
          "output_type": "execute_result",
          "data": {
            "text/plain": [
              "0    68651\n",
              "1    14020\n",
              "Name: Target, dtype: int64"
            ]
          },
          "metadata": {},
          "execution_count": 9
        }
      ]
    },
    {
      "cell_type": "markdown",
      "metadata": {
        "id": "ssSnyH_m8Oy3"
      },
      "source": [
        "we will be using cross validation and precision as our metric since our data is unbalance"
      ]
    },
    {
      "cell_type": "markdown",
      "metadata": {
        "id": "M0xJXSgk-6Dw"
      },
      "source": [
        "## Baseline Model"
      ]
    },
    {
      "cell_type": "code",
      "metadata": {
        "id": "MBXyvg-muUZH",
        "colab": {
          "base_uri": "https://localhost:8080/"
        },
        "outputId": "30488208-0fba-458d-d7a5-490309ad940a"
      },
      "source": [
        "model = DummyClassifier(strategy='stratified')\n",
        "\n",
        "\n",
        "scoring = {'Accuracy': 'accuracy',\n",
        "           'Precision': 'precision_macro',\n",
        "           'Recall': 'recall_macro',\n",
        "           'F1':'f1_macro',\n",
        "    }\n",
        "\n",
        "\n",
        "scores = cross_validate(model, X_train, y_train,\n",
        "                              cv=5,\n",
        "                              scoring=scoring)\n",
        "\n",
        "print(\"Precision scores:\\n\", scores['test_Precision'].mean())\n",
        "print(\"Recall scores:\\n\", scores['test_Recall'].mean())\n",
        "print(\"F1 scores:\\n\", scores['test_F1'].mean())\n",
        "\n",
        "# print('Dummy Classifier :', model.score(y_test,pred))\n",
        "# print(classification_report(y_test,pred))"
      ],
      "execution_count": null,
      "outputs": [
        {
          "output_type": "stream",
          "text": [
            "Precision scores:\n",
            " 0.5009514895321907\n",
            "Recall scores:\n",
            " 0.5009651825741926\n",
            "F1 scores:\n",
            " 0.5009450303376368\n"
          ],
          "name": "stdout"
        }
      ]
    },
    {
      "cell_type": "markdown",
      "metadata": {
        "id": "6xvYQFABA-Ov"
      },
      "source": [
        "## Comparing Model"
      ]
    },
    {
      "cell_type": "code",
      "metadata": {
        "id": "EA1xkmoc8jLs"
      },
      "source": [
        "\n",
        "def train(classifier,name='',graph=False):\n",
        "    \n",
        "    scoring = {'Accuracy': 'accuracy',\n",
        "           'Precision': 'precision_macro',\n",
        "           'Recall': 'recall_macro',\n",
        "           'F1':'f1_macro',\n",
        "           'ROC_AUC'  : 'roc_auc'\n",
        "    }\n",
        "    score_dict = cross_validate(classifier, X_train, y_train,\n",
        "                              cv=10,\n",
        "                              scoring=scoring)\n",
        "    \n",
        "    scores = pd.DataFrame(columns=['Model','Precision','Recall','F1','ROC AUC'])\n",
        "    scores = scores.append(pd.Series({ \n",
        "                                      'Model' : name,\n",
        "                                      # 'Accuracy' : score_dict['test_Accuracy'].mean(),\n",
        "                                      'Precision' : score_dict['test_Precision'].mean(),\n",
        "                                      'Recall' : score_dict['test_Recall'].mean(),\n",
        "                                      'F1' : score_dict['test_F1'].mean(),\n",
        "                                      'ROC AUC' : score_dict['test_ROC_AUC'].mean()\n",
        "    }),ignore_index=True)\n",
        " \n",
        "    return scores"
      ],
      "execution_count": 82,
      "outputs": []
    },
    {
      "cell_type": "code",
      "metadata": {
        "id": "6LcwOwbOuY1E"
      },
      "source": [
        "from sklearn.metrics import classification_report, accuracy_score, make_scorer\n",
        "\n",
        "\n",
        "models =  { \"Decision Tree\" : DecisionTreeClassifier(),\n",
        "            \"Random Forest\" : RandomForestClassifier(),\n",
        "            \"XGBoost\" : XGBClassifier(), \n",
        "            \"LogisticRegression\" : LogisticRegression(max_iter=1200), \n",
        "            \"CatBoost\" :CatBoostClassifier(verbose=False) ,\n",
        "            'LGBM' : LGBMClassifier(),\n",
        "            'KNeighbors' : KNeighborsClassifier(),\n",
        "            'AdaBoost' : AdaBoostClassifier()\n",
        "            }\n",
        "\n",
        "scores = pd.DataFrame(columns=['Model','Precision','Recall','F1','ROC AUC'])\n",
        "# probability = {}\n",
        "\n",
        "for model in models:\n",
        "  scores = scores.append(train(models[model],name=model))"
      ],
      "execution_count": 83,
      "outputs": []
    },
    {
      "cell_type": "code",
      "metadata": {
        "colab": {
          "base_uri": "https://localhost:8080/",
          "height": 297
        },
        "id": "LkftU3aQ0D-4",
        "outputId": "50c054ce-91b2-4124-f479-e06c87da2f24"
      },
      "source": [
        "scores.sort_values('Precision',ascending=False).reset_index(drop=True)"
      ],
      "execution_count": 84,
      "outputs": [
        {
          "output_type": "execute_result",
          "data": {
            "text/html": [
              "<div>\n",
              "<style scoped>\n",
              "    .dataframe tbody tr th:only-of-type {\n",
              "        vertical-align: middle;\n",
              "    }\n",
              "\n",
              "    .dataframe tbody tr th {\n",
              "        vertical-align: top;\n",
              "    }\n",
              "\n",
              "    .dataframe thead th {\n",
              "        text-align: right;\n",
              "    }\n",
              "</style>\n",
              "<table border=\"1\" class=\"dataframe\">\n",
              "  <thead>\n",
              "    <tr style=\"text-align: right;\">\n",
              "      <th></th>\n",
              "      <th>Model</th>\n",
              "      <th>Precision</th>\n",
              "      <th>Recall</th>\n",
              "      <th>F1</th>\n",
              "      <th>ROC AUC</th>\n",
              "    </tr>\n",
              "  </thead>\n",
              "  <tbody>\n",
              "    <tr>\n",
              "      <th>0</th>\n",
              "      <td>XGBoost</td>\n",
              "      <td>0.826872</td>\n",
              "      <td>0.745354</td>\n",
              "      <td>0.776239</td>\n",
              "      <td>0.937858</td>\n",
              "    </tr>\n",
              "    <tr>\n",
              "      <th>1</th>\n",
              "      <td>LGBM</td>\n",
              "      <td>0.818918</td>\n",
              "      <td>0.748048</td>\n",
              "      <td>0.775862</td>\n",
              "      <td>0.937156</td>\n",
              "    </tr>\n",
              "    <tr>\n",
              "      <th>2</th>\n",
              "      <td>CatBoost</td>\n",
              "      <td>0.811829</td>\n",
              "      <td>0.748561</td>\n",
              "      <td>0.774013</td>\n",
              "      <td>0.935933</td>\n",
              "    </tr>\n",
              "    <tr>\n",
              "      <th>3</th>\n",
              "      <td>AdaBoost</td>\n",
              "      <td>0.807188</td>\n",
              "      <td>0.751260</td>\n",
              "      <td>0.774149</td>\n",
              "      <td>0.933819</td>\n",
              "    </tr>\n",
              "    <tr>\n",
              "      <th>4</th>\n",
              "      <td>Random Forest</td>\n",
              "      <td>0.779375</td>\n",
              "      <td>0.737577</td>\n",
              "      <td>0.755370</td>\n",
              "      <td>0.928250</td>\n",
              "    </tr>\n",
              "    <tr>\n",
              "      <th>5</th>\n",
              "      <td>LogisticRegression</td>\n",
              "      <td>0.774314</td>\n",
              "      <td>0.786072</td>\n",
              "      <td>0.779738</td>\n",
              "      <td>0.927539</td>\n",
              "    </tr>\n",
              "    <tr>\n",
              "      <th>6</th>\n",
              "      <td>Decision Tree</td>\n",
              "      <td>0.745449</td>\n",
              "      <td>0.745677</td>\n",
              "      <td>0.745409</td>\n",
              "      <td>0.745677</td>\n",
              "    </tr>\n",
              "    <tr>\n",
              "      <th>7</th>\n",
              "      <td>KNeighbors</td>\n",
              "      <td>0.726452</td>\n",
              "      <td>0.687182</td>\n",
              "      <td>0.703143</td>\n",
              "      <td>0.805172</td>\n",
              "    </tr>\n",
              "  </tbody>\n",
              "</table>\n",
              "</div>"
            ],
            "text/plain": [
              "                Model  Precision    Recall        F1   ROC AUC\n",
              "0             XGBoost   0.826872  0.745354  0.776239  0.937858\n",
              "1                LGBM   0.818918  0.748048  0.775862  0.937156\n",
              "2            CatBoost   0.811829  0.748561  0.774013  0.935933\n",
              "3            AdaBoost   0.807188  0.751260  0.774149  0.933819\n",
              "4       Random Forest   0.779375  0.737577  0.755370  0.928250\n",
              "5  LogisticRegression   0.774314  0.786072  0.779738  0.927539\n",
              "6       Decision Tree   0.745449  0.745677  0.745409  0.745677\n",
              "7          KNeighbors   0.726452  0.687182  0.703143  0.805172"
            ]
          },
          "metadata": {},
          "execution_count": 84
        }
      ]
    },
    {
      "cell_type": "markdown",
      "metadata": {
        "id": "m5OjGuP4-OT7"
      },
      "source": [
        "XGBoost shows great promise"
      ]
    },
    {
      "cell_type": "code",
      "metadata": {
        "colab": {
          "base_uri": "https://localhost:8080/"
        },
        "id": "QTyPmFzcNzun",
        "outputId": "2e59c76b-449b-48b8-d937-a1e4c953b091"
      },
      "source": [
        "cross_validate(XGBClassifier(), X_train, y_train, cv=10, scoring='precision_macro')['test_score'].mean()"
      ],
      "execution_count": 86,
      "outputs": [
        {
          "output_type": "execute_result",
          "data": {
            "text/plain": [
              "0.8430288543594381"
            ]
          },
          "metadata": {},
          "execution_count": 86
        }
      ]
    },
    {
      "cell_type": "markdown",
      "metadata": {
        "id": "lbrTeaX-_SZd"
      },
      "source": [
        "## Model Train"
      ]
    },
    {
      "cell_type": "code",
      "metadata": {
        "id": "t9tL07FNAtzT"
      },
      "source": [
        "\n",
        "param_grid = {\n",
        "    'max_depth':[4,5,7],\n",
        "    'min_child_weight':[3,4,6],\n",
        "    'subsample':[1,.7]\n",
        "}\n",
        "\n",
        "grid = GridSearchCV(estimator=XGBClassifier(),param_grid = param_grid,cv=5)\n",
        "grid.fit(X_train,y_train)\n"
      ],
      "execution_count": null,
      "outputs": []
    },
    {
      "cell_type": "code",
      "metadata": {
        "id": "mlCkg901XvAq",
        "colab": {
          "base_uri": "https://localhost:8080/"
        },
        "outputId": "373272b5-15ae-45cb-82e3-a36a6abdb7bd"
      },
      "source": [
        "grid.best_params_"
      ],
      "execution_count": 93,
      "outputs": [
        {
          "output_type": "execute_result",
          "data": {
            "text/plain": [
              "{'max_depth': 4, 'min_child_weight': 3, 'subsample': 0.7}"
            ]
          },
          "metadata": {},
          "execution_count": 93
        }
      ]
    },
    {
      "cell_type": "code",
      "metadata": {
        "colab": {
          "base_uri": "https://localhost:8080/"
        },
        "id": "FGibP7nLX-i5",
        "outputId": "9eb6db69-1094-4a0c-e0cc-b5c4cb80a0f4"
      },
      "source": [
        "model = XGBClassifier(max_depth= 4, min_child_weight= 3, subsample= 0.7)\n",
        "\n",
        "model.fit(X_train,y_train)\n",
        "pred = model.predict(X_test)\n",
        "print(classification_report(y_test,pred))"
      ],
      "execution_count": 214,
      "outputs": [
        {
          "output_type": "stream",
          "text": [
            "              precision    recall  f1-score   support\n",
            "\n",
            "           0       0.90      0.97      0.94     20596\n",
            "           1       0.78      0.50      0.61      4206\n",
            "\n",
            "    accuracy                           0.89     24802\n",
            "   macro avg       0.84      0.74      0.77     24802\n",
            "weighted avg       0.88      0.89      0.88     24802\n",
            "\n"
          ],
          "name": "stdout"
        }
      ]
    },
    {
      "cell_type": "markdown",
      "metadata": {
        "id": "ZsY7hStwIUi5"
      },
      "source": [
        "We will try moving the threshold as we want to capture a more profitable precision score"
      ]
    },
    {
      "cell_type": "code",
      "metadata": {
        "colab": {
          "base_uri": "https://localhost:8080/",
          "height": 296
        },
        "id": "bla6WFleHGQa",
        "outputId": "9faca15e-b680-41c9-bbc6-8df620389090"
      },
      "source": [
        "from sklearn import metrics\n",
        "metrics.plot_roc_curve(model, X_test, y_test)"
      ],
      "execution_count": 96,
      "outputs": [
        {
          "output_type": "execute_result",
          "data": {
            "text/plain": [
              "<sklearn.metrics._plot.roc_curve.RocCurveDisplay at 0x7f92c031d110>"
            ]
          },
          "metadata": {},
          "execution_count": 96
        },
        {
          "output_type": "display_data",
          "data": {
            "image/png": "[encoded data removed]",
            "text/plain": [
              "<Figure size 432x288 with 1 Axes>"
            ]
          },
          "metadata": {
            "needs_background": "light"
          }
        }
      ]
    },
    {
      "cell_type": "code",
      "metadata": {
        "id": "OM3dE6yZhlTt"
      },
      "source": [
        "threshold = .5"
      ],
      "execution_count": 256,
      "outputs": []
    },
    {
      "cell_type": "code",
      "metadata": {
        "colab": {
          "base_uri": "https://localhost:8080/"
        },
        "id": "ZkitvpI5gMoF",
        "outputId": "78ae77bf-186a-4aa9-a468-13831e024466"
      },
      "source": [
        "score = model.predict_proba(X)[:, 1]\n",
        "result = [(i > threshold) for i in score]\n",
        "print(classification_report(y, result, labels=[0,1]))"
      ],
      "execution_count": 257,
      "outputs": [
        {
          "output_type": "stream",
          "text": [
            "              precision    recall  f1-score   support\n",
            "\n",
            "           0       0.91      0.97      0.94     68651\n",
            "           1       0.79      0.50      0.61     14020\n",
            "\n",
            "    accuracy                           0.89     82671\n",
            "   macro avg       0.85      0.74      0.78     82671\n",
            "weighted avg       0.89      0.89      0.88     82671\n",
            "\n"
          ],
          "name": "stdout"
        }
      ]
    },
    {
      "cell_type": "code",
      "metadata": {
        "id": "EEvY78E6Lpg5"
      },
      "source": [
        "def evaluation(model,X,y,threshold=threshold):\n",
        "  score = model.predict_proba(X)[:, 1]\n",
        "  result = [(i > threshold) for i in score]\n",
        "  # print(classification_report(y, result, labels=[0,1]))\n",
        "  print('Precision avg :', precision_score(y,result,average='weighted'))\n",
        "  print('Recall avg :', recall_score(y,result,average='weighted'))"
      ],
      "execution_count": 258,
      "outputs": []
    },
    {
      "cell_type": "code",
      "metadata": {
        "colab": {
          "base_uri": "https://localhost:8080/"
        },
        "id": "fpLVC4EAMJmj",
        "outputId": "36468a64-d8a8-403a-ffe4-876b059c6740"
      },
      "source": [
        "evaluation(model,X_test,y_test)"
      ],
      "execution_count": 259,
      "outputs": [
        {
          "output_type": "stream",
          "text": [
            "Precision avg : 0.8845408781311309\n",
            "Recall avg : 0.8919441980485445\n"
          ],
          "name": "stdout"
        }
      ]
    },
    {
      "cell_type": "markdown",
      "metadata": {
        "id": "nQKW1CXOamaq"
      },
      "source": [
        "## Evaluation"
      ]
    },
    {
      "cell_type": "code",
      "metadata": {
        "id": "14II0ClpJ8SY",
        "colab": {
          "base_uri": "https://localhost:8080/"
        },
        "outputId": "3d29166f-2c61-485a-fb49-ecf6bd1563d3"
      },
      "source": [
        "evaluation(model,X_valid,y_valid)"
      ],
      "execution_count": 260,
      "outputs": [
        {
          "output_type": "stream",
          "text": [
            "Precision avg : 0.823685463435567\n",
            "Recall avg : 0.7658940890366768\n"
          ],
          "name": "stdout"
        }
      ]
    }
  ]
}
