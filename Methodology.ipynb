{
  "nbformat": 4,
  "nbformat_minor": 0,
  "metadata": {
    "colab": {
      "name": "Methodology.ipynb",
      "provenance": [],
      "collapsed_sections": []
    },
    "kernelspec": {
      "name": "python3",
      "display_name": "Python 3"
    },
    "language_info": {
      "name": "python"
    },
    "accelerator": "GPU"
  },
  "cells": [
    {
      "cell_type": "code",
      "metadata": {
        "id": "V1wLn5vPxk-k"
      },
      "source": [
        "import pandas as pd\n",
        "from sklearn.dummy import DummyClassifier\n",
        "from sklearn.model_selection import cross_validate\n",
        "from sklearn.ensemble import RandomForestClassifier\n",
        "from sklearn.linear_model import LogisticRegression\n",
        "from sklearn.tree import DecisionTreeClassifier\n",
        "from xgboost import XGBClassifier\n",
        "from catboost import CatBoostClassifier\n",
        "from lightgbm import LGBMClassifier\n",
        "from sklearn.metrics import classification_report,make_scorer,recall_score\n",
        "from sklearn.model_selection import train_test_split\n",
        "from sklearn import metrics\n",
        "from sklearn.dummy import DummyClassifier\n"
      ],
      "execution_count": 4,
      "outputs": []
    },
    {
      "cell_type": "code",
      "metadata": {
        "id": "ppCdaxlDzRDW"
      },
      "source": [
        "df = pd.read_csv('https://raw.githubusercontent.com/joshuasir/datasets/main/stock-market-train-clean.csv')\n",
        "df_test = pd.read_csv('https://raw.githubusercontent.com/joshuasir/datasets/main/stock-market-test-clean.csv')"
      ],
      "execution_count": 5,
      "outputs": []
    },
    {
      "cell_type": "code",
      "metadata": {
        "id": "YbehtcOFuJR2"
      },
      "source": [
        "X = df.copy()\n",
        "# X = df.drop(columns=['Date','Adj Close','CloseUSD','Volume','RSI14','Open','Year'],axis=1).copy()\n",
        "y = X.pop('Target')\n",
        "X_valid = df_test.copy()\n",
        "y_valid = X_valid.pop('Target')\n",
        "\n",
        "X_train,X_test,y_train,y_test = train_test_split(X,y,test_size=0.3,stratify=y,random_state=42)"
      ],
      "execution_count": 6,
      "outputs": []
    },
    {
      "cell_type": "code",
      "metadata": {
        "id": "yN_bJe2icYbm",
        "colab": {
          "base_uri": "https://localhost:8080/"
        },
        "outputId": "151c5891-dfb0-4542-d8af-525f359d5c34"
      },
      "source": [
        "y.value_counts()"
      ],
      "execution_count": 7,
      "outputs": [
        {
          "output_type": "execute_result",
          "data": {
            "text/plain": [
              "0    68651\n",
              "1    14020\n",
              "Name: Target, dtype: int64"
            ]
          },
          "metadata": {
            "tags": []
          },
          "execution_count": 7
        }
      ]
    },
    {
      "cell_type": "markdown",
      "metadata": {
        "id": "ssSnyH_m8Oy3"
      },
      "source": [
        "we will be using cross validation and recall since our data is unbalance"
      ]
    },
    {
      "cell_type": "markdown",
      "metadata": {
        "id": "M0xJXSgk-6Dw"
      },
      "source": [
        "## Baseline Model"
      ]
    },
    {
      "cell_type": "code",
      "metadata": {
        "id": "MBXyvg-muUZH",
        "colab": {
          "base_uri": "https://localhost:8080/"
        },
        "outputId": "1db43c5b-df25-49fb-a1a4-7d9a63b38923"
      },
      "source": [
        "model = DummyClassifier(strategy='stratified')\n",
        "\n",
        "\n",
        "scoring = {'Accuracy': 'accuracy',\n",
        "           'Precision': 'precision_macro',\n",
        "           'Recall': 'recall_macro',\n",
        "           'F1':'f1_macro',\n",
        "    }\n",
        "\n",
        "\n",
        "scores = cross_validate(model, X_train, y_train,\n",
        "                              cv=5,\n",
        "                              scoring=scoring)\n",
        "\n",
        "print(\"Precision scores:\\n\", scores['test_Precision'].mean())\n",
        "print(\"Recall scores:\\n\", scores['test_Recall'].mean())\n",
        "print(\"F1 scores:\\n\", scores['test_F1'].mean())\n",
        "\n",
        "# print('Dummy Classifier :', model.score(y_test,pred))\n",
        "# print(classification_report(y_test,pred))"
      ],
      "execution_count": 8,
      "outputs": [
        {
          "output_type": "stream",
          "text": [
            "Precision scores:\n",
            " 0.4986067305989758\n",
            "Recall scores:\n",
            " 0.49860828773577026\n",
            "F1 scores:\n",
            " 0.49860257555400417\n"
          ],
          "name": "stdout"
        }
      ]
    },
    {
      "cell_type": "markdown",
      "metadata": {
        "id": "6xvYQFABA-Ov"
      },
      "source": [
        "## Comparing Model"
      ]
    },
    {
      "cell_type": "code",
      "metadata": {
        "id": "EA1xkmoc8jLs"
      },
      "source": [
        "\n",
        "def train(classifier,name='',graph=False):\n",
        "    \n",
        "    scoring = {'Accuracy': 'accuracy',\n",
        "           'Precision': 'precision_macro',\n",
        "           'Recall': 'recall_macro',\n",
        "           'F1':'f1_macro',\n",
        "           'ROC_AUC'  : 'roc_auc'\n",
        "    }\n",
        "    score_dict = cross_validate(classifier, X_test, y_test,\n",
        "                              cv=5,\n",
        "                              scoring=scoring)\n",
        "    \n",
        "    scores = pd.DataFrame(columns=['Model','Precision','Recall','F1','ROC AUC'])\n",
        "    scores = scores.append(pd.Series({ \n",
        "                                      'Model' : name,\n",
        "                                      # 'Accuracy' : score_dict['test_Accuracy'].mean(),\n",
        "                                      'Precision' : score_dict['test_Precision'].mean(),\n",
        "                                      'Recall' : score_dict['test_Recall'].mean(),\n",
        "                                      'F1' : score_dict['test_F1'].mean(),\n",
        "                                      'ROC AUC' : score_dict['test_ROC_AUC'].mean()\n",
        "    }),ignore_index=True)\n",
        " \n",
        "    return scores"
      ],
      "execution_count": 10,
      "outputs": []
    },
    {
      "cell_type": "code",
      "metadata": {
        "id": "6LcwOwbOuY1E"
      },
      "source": [
        "from sklearn.metrics import classification_report, accuracy_score, make_scorer\n",
        "\n",
        "\n",
        "models =  { \"Decision Tree\" : DecisionTreeClassifier(),\n",
        "            \"Random Forest\" : RandomForestClassifier(),\n",
        "            \"XGBoost\" : XGBClassifier(), \n",
        "            \"LogisticRegression\" : LogisticRegression(max_iter=1200), \n",
        "            \"CatBoost\" :CatBoostClassifier(verbose=False) ,\n",
        "            'LGBM' : LGBMClassifier()\n",
        "            \n",
        "            }\n",
        "\n",
        "scores = pd.DataFrame(columns=['Model','Precision','Recall','F1','ROC AUC'])\n",
        "# probability = {}\n",
        "\n",
        "for model in models:\n",
        "  scores = scores.append(train(models[model],name=model))"
      ],
      "execution_count": null,
      "outputs": []
    },
    {
      "cell_type": "code",
      "metadata": {
        "colab": {
          "base_uri": "https://localhost:8080/",
          "height": 235
        },
        "id": "LkftU3aQ0D-4",
        "outputId": "b3f75a00-3589-4083-df5b-66fe9472f0cc"
      },
      "source": [
        "scores.sort_values('Recall',ascending=False).reset_index(drop=True)"
      ],
      "execution_count": 13,
      "outputs": [
        {
          "output_type": "execute_result",
          "data": {
            "text/html": [
              "<div>\n",
              "<style scoped>\n",
              "    .dataframe tbody tr th:only-of-type {\n",
              "        vertical-align: middle;\n",
              "    }\n",
              "\n",
              "    .dataframe tbody tr th {\n",
              "        vertical-align: top;\n",
              "    }\n",
              "\n",
              "    .dataframe thead th {\n",
              "        text-align: right;\n",
              "    }\n",
              "</style>\n",
              "<table border=\"1\" class=\"dataframe\">\n",
              "  <thead>\n",
              "    <tr style=\"text-align: right;\">\n",
              "      <th></th>\n",
              "      <th>Model</th>\n",
              "      <th>Precision</th>\n",
              "      <th>Recall</th>\n",
              "      <th>F1</th>\n",
              "      <th>ROC AUC</th>\n",
              "    </tr>\n",
              "  </thead>\n",
              "  <tbody>\n",
              "    <tr>\n",
              "      <th>0</th>\n",
              "      <td>LogisticRegression</td>\n",
              "      <td>0.776489</td>\n",
              "      <td>0.780509</td>\n",
              "      <td>0.778000</td>\n",
              "      <td>0.928984</td>\n",
              "    </tr>\n",
              "    <tr>\n",
              "      <th>1</th>\n",
              "      <td>LGBM</td>\n",
              "      <td>0.820723</td>\n",
              "      <td>0.750410</td>\n",
              "      <td>0.778058</td>\n",
              "      <td>0.937964</td>\n",
              "    </tr>\n",
              "    <tr>\n",
              "      <th>2</th>\n",
              "      <td>CatBoost</td>\n",
              "      <td>0.810967</td>\n",
              "      <td>0.749652</td>\n",
              "      <td>0.774454</td>\n",
              "      <td>0.936750</td>\n",
              "    </tr>\n",
              "    <tr>\n",
              "      <th>3</th>\n",
              "      <td>Decision Tree</td>\n",
              "      <td>0.745274</td>\n",
              "      <td>0.746653</td>\n",
              "      <td>0.745869</td>\n",
              "      <td>0.746653</td>\n",
              "    </tr>\n",
              "    <tr>\n",
              "      <th>4</th>\n",
              "      <td>XGBoost</td>\n",
              "      <td>0.826467</td>\n",
              "      <td>0.744556</td>\n",
              "      <td>0.775617</td>\n",
              "      <td>0.937831</td>\n",
              "    </tr>\n",
              "    <tr>\n",
              "      <th>5</th>\n",
              "      <td>Random Forest</td>\n",
              "      <td>0.782909</td>\n",
              "      <td>0.740587</td>\n",
              "      <td>0.758611</td>\n",
              "      <td>0.929290</td>\n",
              "    </tr>\n",
              "  </tbody>\n",
              "</table>\n",
              "</div>"
            ],
            "text/plain": [
              "                Model  Precision    Recall        F1   ROC AUC\n",
              "0  LogisticRegression   0.776489  0.780509  0.778000  0.928984\n",
              "1                LGBM   0.820723  0.750410  0.778058  0.937964\n",
              "2            CatBoost   0.810967  0.749652  0.774454  0.936750\n",
              "3       Decision Tree   0.745274  0.746653  0.745869  0.746653\n",
              "4             XGBoost   0.826467  0.744556  0.775617  0.937831\n",
              "5       Random Forest   0.782909  0.740587  0.758611  0.929290"
            ]
          },
          "metadata": {
            "tags": []
          },
          "execution_count": 13
        }
      ]
    },
    {
      "cell_type": "markdown",
      "metadata": {
        "id": "lbrTeaX-_SZd"
      },
      "source": [
        "## Model Train"
      ]
    },
    {
      "cell_type": "code",
      "metadata": {
        "id": "7bQzwp0w0a-f"
      },
      "source": [
        "dict_score = cross_validate(LogisticRegression(max_iter=2200), X, y,\n",
        "                              cv=15,\n",
        "                              scoring='recall_macro')"
      ],
      "execution_count": null,
      "outputs": []
    },
    {
      "cell_type": "code",
      "metadata": {
        "id": "D-kvw0hL_2FY"
      },
      "source": [
        "dict_score['test_score'].mean()"
      ],
      "execution_count": null,
      "outputs": []
    },
    {
      "cell_type": "code",
      "metadata": {
        "colab": {
          "base_uri": "https://localhost:8080/"
        },
        "id": "A2NcNL_sAR_Q",
        "outputId": "dfdda917-63e9-487e-f387-ea669713724c"
      },
      "source": [
        "model = LogisticRegression(max_iter=1200)\n",
        "model.fit(X,y)\n",
        "pred = model.predict(X_valid)\n",
        "print(classification_report(y_valid,pred))"
      ],
      "execution_count": 46,
      "outputs": [
        {
          "output_type": "stream",
          "text": [
            "              precision    recall  f1-score   support\n",
            "\n",
            "           0       0.71      1.00      0.83     14391\n",
            "           1       0.00      0.00      0.00      5758\n",
            "\n",
            "    accuracy                           0.71     20149\n",
            "   macro avg       0.36      0.50      0.42     20149\n",
            "weighted avg       0.51      0.71      0.60     20149\n",
            "\n"
          ],
          "name": "stdout"
        },
        {
          "output_type": "stream",
          "text": [
            "/usr/local/lib/python3.7/dist-packages/sklearn/metrics/_classification.py:1272: UndefinedMetricWarning: Precision and F-score are ill-defined and being set to 0.0 in labels with no predicted samples. Use `zero_division` parameter to control this behavior.\n",
            "  _warn_prf(average, modifier, msg_start, len(result))\n"
          ],
          "name": "stderr"
        }
      ]
    },
    {
      "cell_type": "markdown",
      "metadata": {
        "id": "ZsY7hStwIUi5"
      },
      "source": [
        "We will try moving the threshold as we didn't caught any of the 1 category"
      ]
    },
    {
      "cell_type": "code",
      "metadata": {
        "colab": {
          "base_uri": "https://localhost:8080/",
          "height": 296
        },
        "id": "bla6WFleHGQa",
        "outputId": "3dec1e0c-c451-4299-f2fa-3bf6791a3275"
      },
      "source": [
        "from sklearn import metrics\n",
        "metrics.plot_roc_curve(model, X_valid, y_valid)"
      ],
      "execution_count": 48,
      "outputs": [
        {
          "output_type": "execute_result",
          "data": {
            "text/plain": [
              "<sklearn.metrics._plot.roc_curve.RocCurveDisplay at 0x7fb8acc702d0>"
            ]
          },
          "metadata": {
            "tags": []
          },
          "execution_count": 48
        },
        {
          "output_type": "display_data",
          "data": {
            "image/png": "[encoded data removed]",
            "text/plain": [
              "<Figure size 432x288 with 1 Axes>"
            ]
          },
          "metadata": {
            "tags": [],
            "needs_background": "light"
          }
        }
      ]
    },
    {
      "cell_type": "code",
      "metadata": {
        "id": "jAN9mOAnJTW2"
      },
      "source": [
        "score = model.predict_proba(X_valid)[:, 1]\n",
        "\n",
        "result = []\n",
        "threshold = 0.001\n",
        "for i in score:\n",
        "    result.append(i > threshold)\n"
      ],
      "execution_count": 67,
      "outputs": []
    },
    {
      "cell_type": "code",
      "metadata": {
        "colab": {
          "base_uri": "https://localhost:8080/"
        },
        "id": "33ASO5nWJcF9",
        "outputId": "079ccafc-7806-4d68-95b8-14211cdf7490"
      },
      "source": [
        "\n",
        "print(classification_report(y_valid, result, labels=[0,1], zero_division=1))"
      ],
      "execution_count": 68,
      "outputs": [
        {
          "output_type": "stream",
          "text": [
            "              precision    recall  f1-score   support\n",
            "\n",
            "           0       0.90      0.91      0.91     14391\n",
            "           1       0.77      0.74      0.76      5758\n",
            "\n",
            "    accuracy                           0.86     20149\n",
            "   macro avg       0.84      0.83      0.83     20149\n",
            "weighted avg       0.86      0.86      0.86     20149\n",
            "\n"
          ],
          "name": "stdout"
        }
      ]
    },
    {
      "cell_type": "code",
      "metadata": {
        "id": "14II0ClpJ8SY"
      },
      "source": [
        ""
      ],
      "execution_count": null,
      "outputs": []
    }
  ]
}