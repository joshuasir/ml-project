{
  "nbformat": 4,
  "nbformat_minor": 0,
  "metadata": {
    "colab": {
      "name": "Methodology.ipynb",
      "provenance": [],
      "collapsed_sections": []
    },
    "kernelspec": {
      "name": "python3",
      "display_name": "Python 3"
    },
    "language_info": {
      "name": "python"
    },
    "accelerator": "GPU"
  },
  "cells": [
    {
      "cell_type": "code",
      "metadata": {
        "colab": {
          "base_uri": "https://localhost:8080/"
        },
        "id": "zSH5Qo0UwB4N",
        "outputId": "16ef36f3-e938-4216-ddb8-56d5259068ea"
      },
      "source": [
        "pip install catboost"
      ],
      "execution_count": 1,
      "outputs": [
        {
          "output_type": "stream",
          "name": "stdout",
          "text": [
            "Collecting catboost\n",
            "  Downloading catboost-0.26.1-cp37-none-manylinux1_x86_64.whl (67.4 MB)\n",
            "\u001b[K     |████████████████████████████████| 67.4 MB 28 kB/s \n",
            "\u001b[?25hRequirement already satisfied: scipy in /usr/local/lib/python3.7/dist-packages (from catboost) (1.4.1)\n",
            "Requirement already satisfied: plotly in /usr/local/lib/python3.7/dist-packages (from catboost) (4.4.1)\n",
            "Requirement already satisfied: graphviz in /usr/local/lib/python3.7/dist-packages (from catboost) (0.10.1)\n",
            "Requirement already satisfied: pandas>=0.24.0 in /usr/local/lib/python3.7/dist-packages (from catboost) (1.1.5)\n",
            "Requirement already satisfied: matplotlib in /usr/local/lib/python3.7/dist-packages (from catboost) (3.2.2)\n",
            "Requirement already satisfied: six in /usr/local/lib/python3.7/dist-packages (from catboost) (1.15.0)\n",
            "Requirement already satisfied: numpy>=1.16.0 in /usr/local/lib/python3.7/dist-packages (from catboost) (1.19.5)\n",
            "Requirement already satisfied: pytz>=2017.2 in /usr/local/lib/python3.7/dist-packages (from pandas>=0.24.0->catboost) (2018.9)\n",
            "Requirement already satisfied: python-dateutil>=2.7.3 in /usr/local/lib/python3.7/dist-packages (from pandas>=0.24.0->catboost) (2.8.2)\n",
            "Requirement already satisfied: kiwisolver>=1.0.1 in /usr/local/lib/python3.7/dist-packages (from matplotlib->catboost) (1.3.1)\n",
            "Requirement already satisfied: pyparsing!=2.0.4,!=2.1.2,!=2.1.6,>=2.0.1 in /usr/local/lib/python3.7/dist-packages (from matplotlib->catboost) (2.4.7)\n",
            "Requirement already satisfied: cycler>=0.10 in /usr/local/lib/python3.7/dist-packages (from matplotlib->catboost) (0.10.0)\n",
            "Requirement already satisfied: retrying>=1.3.3 in /usr/local/lib/python3.7/dist-packages (from plotly->catboost) (1.3.3)\n",
            "Installing collected packages: catboost\n",
            "Successfully installed catboost-0.26.1\n"
          ]
        }
      ]
    },
    {
      "cell_type": "code",
      "metadata": {
        "id": "V1wLn5vPxk-k"
      },
      "source": [
        "import pandas as pd\n",
        "from sklearn.dummy import DummyClassifier\n",
        "from sklearn.model_selection import cross_validate\n",
        "from sklearn.ensemble import RandomForestClassifier,AdaBoostClassifier\n",
        "from sklearn.linear_model import LogisticRegression\n",
        "from sklearn.tree import DecisionTreeClassifier\n",
        "from xgboost import XGBClassifier\n",
        "from catboost import CatBoostClassifier\n",
        "from lightgbm import LGBMClassifier\n",
        "from sklearn.metrics import classification_report,make_scorer,precision_score,recall_score\n",
        "from sklearn.model_selection import train_test_split,GridSearchCV\n",
        "from sklearn import metrics\n",
        "from sklearn.dummy import DummyClassifier\n",
        "from sklearn.neighbors import KNeighborsClassifier\n"
      ],
      "execution_count": 2,
      "outputs": []
    },
    {
      "cell_type": "code",
      "metadata": {
        "id": "ppCdaxlDzRDW"
      },
      "source": [
        "df = pd.read_csv('https://raw.githubusercontent.com/joshuasir/datasets/main/stock-market-train-clean.csv')\n",
        "df_test = pd.read_csv('https://raw.githubusercontent.com/joshuasir/datasets/main/stock-market-test-clean.csv')"
      ],
      "execution_count": 5,
      "outputs": []
    },
    {
      "cell_type": "code",
      "metadata": {
        "colab": {
          "base_uri": "https://localhost:8080/",
          "height": 204
        },
        "id": "7aWjwXGwMVUz",
        "outputId": "157e3c3c-ab28-408f-84a7-38852cb21894"
      },
      "source": [
        "df.head()"
      ],
      "execution_count": 6,
      "outputs": [
        {
          "output_type": "execute_result",
          "data": {
            "text/html": [
              "<div>\n",
              "<style scoped>\n",
              "    .dataframe tbody tr th:only-of-type {\n",
              "        vertical-align: middle;\n",
              "    }\n",
              "\n",
              "    .dataframe tbody tr th {\n",
              "        vertical-align: top;\n",
              "    }\n",
              "\n",
              "    .dataframe thead th {\n",
              "        text-align: right;\n",
              "    }\n",
              "</style>\n",
              "<table border=\"1\" class=\"dataframe\">\n",
              "  <thead>\n",
              "    <tr style=\"text-align: right;\">\n",
              "      <th></th>\n",
              "      <th>SMA</th>\n",
              "      <th>EMA</th>\n",
              "      <th>WMA</th>\n",
              "      <th>RSI</th>\n",
              "      <th>MOM</th>\n",
              "      <th>STC</th>\n",
              "      <th>CCI</th>\n",
              "      <th>Target</th>\n",
              "      <th>MACD</th>\n",
              "    </tr>\n",
              "  </thead>\n",
              "  <tbody>\n",
              "    <tr>\n",
              "      <th>0</th>\n",
              "      <td>0</td>\n",
              "      <td>0</td>\n",
              "      <td>0</td>\n",
              "      <td>0</td>\n",
              "      <td>0</td>\n",
              "      <td>0</td>\n",
              "      <td>0</td>\n",
              "      <td>0</td>\n",
              "      <td>1</td>\n",
              "    </tr>\n",
              "    <tr>\n",
              "      <th>1</th>\n",
              "      <td>0</td>\n",
              "      <td>0</td>\n",
              "      <td>0</td>\n",
              "      <td>0</td>\n",
              "      <td>0</td>\n",
              "      <td>0</td>\n",
              "      <td>1</td>\n",
              "      <td>0</td>\n",
              "      <td>1</td>\n",
              "    </tr>\n",
              "    <tr>\n",
              "      <th>2</th>\n",
              "      <td>0</td>\n",
              "      <td>0</td>\n",
              "      <td>0</td>\n",
              "      <td>0</td>\n",
              "      <td>0</td>\n",
              "      <td>0</td>\n",
              "      <td>1</td>\n",
              "      <td>0</td>\n",
              "      <td>1</td>\n",
              "    </tr>\n",
              "    <tr>\n",
              "      <th>3</th>\n",
              "      <td>0</td>\n",
              "      <td>0</td>\n",
              "      <td>0</td>\n",
              "      <td>0</td>\n",
              "      <td>0</td>\n",
              "      <td>0</td>\n",
              "      <td>0</td>\n",
              "      <td>0</td>\n",
              "      <td>1</td>\n",
              "    </tr>\n",
              "    <tr>\n",
              "      <th>4</th>\n",
              "      <td>0</td>\n",
              "      <td>0</td>\n",
              "      <td>0</td>\n",
              "      <td>0</td>\n",
              "      <td>0</td>\n",
              "      <td>0</td>\n",
              "      <td>0</td>\n",
              "      <td>0</td>\n",
              "      <td>0</td>\n",
              "    </tr>\n",
              "  </tbody>\n",
              "</table>\n",
              "</div>"
            ],
            "text/plain": [
              "   SMA  EMA  WMA  RSI  MOM  STC  CCI  Target  MACD\n",
              "0    0    0    0    0    0    0    0       0     1\n",
              "1    0    0    0    0    0    0    1       0     1\n",
              "2    0    0    0    0    0    0    1       0     1\n",
              "3    0    0    0    0    0    0    0       0     1\n",
              "4    0    0    0    0    0    0    0       0     0"
            ]
          },
          "metadata": {},
          "execution_count": 6
        }
      ]
    },
    {
      "cell_type": "code",
      "metadata": {
        "id": "YbehtcOFuJR2"
      },
      "source": [
        "X = df.copy()\n",
        "y = X.pop('Target')\n",
        "X_valid = df_test.copy()\n",
        "y_valid = X_valid.pop('Target')\n",
        "\n",
        "X_train,X_test,y_train,y_test = train_test_split(X,y,test_size=.3,stratify=y,random_state=42)"
      ],
      "execution_count": 68,
      "outputs": []
    },
    {
      "cell_type": "code",
      "metadata": {
        "id": "yN_bJe2icYbm",
        "colab": {
          "base_uri": "https://localhost:8080/"
        },
        "outputId": "8d0477ef-84aa-4a80-d3c0-d02a003dc5cf"
      },
      "source": [
        "y.value_counts()"
      ],
      "execution_count": 8,
      "outputs": [
        {
          "output_type": "execute_result",
          "data": {
            "text/plain": [
              "0    51487\n",
              "1    31885\n",
              "Name: Target, dtype: int64"
            ]
          },
          "metadata": {},
          "execution_count": 8
        }
      ]
    },
    {
      "cell_type": "markdown",
      "metadata": {
        "id": "ssSnyH_m8Oy3"
      },
      "source": [
        "we will be using cross validation and precision as our metric since our data is unbalance"
      ]
    },
    {
      "cell_type": "markdown",
      "metadata": {
        "id": "M0xJXSgk-6Dw"
      },
      "source": [
        "## Baseline Model"
      ]
    },
    {
      "cell_type": "code",
      "metadata": {
        "id": "MBXyvg-muUZH",
        "colab": {
          "base_uri": "https://localhost:8080/"
        },
        "outputId": "2aabfd2d-a8e5-4cc6-f59d-cc45c50ce25c"
      },
      "source": [
        "model = DummyClassifier(strategy='stratified')\n",
        "\n",
        "\n",
        "scoring = {'Accuracy': 'accuracy',\n",
        "           'Precision': 'precision_macro',\n",
        "           'Recall': 'recall_macro',\n",
        "           'F1':'f1_macro',\n",
        "    }\n",
        "\n",
        "\n",
        "scores = cross_validate(model, X_train, y_train,\n",
        "                              cv=5,\n",
        "                              scoring=scoring)\n",
        "\n",
        "print(\"Precision scores:\\n\", scores['test_Precision'].mean())\n",
        "print(\"Recall scores:\\n\", scores['test_Recall'].mean())\n",
        "print(\"F1 scores:\\n\", scores['test_F1'].mean())\n",
        "\n",
        "# print('Dummy Classifier :', model.score(y_test,pred))\n",
        "# print(classification_report(y_test,pred))"
      ],
      "execution_count": 9,
      "outputs": [
        {
          "output_type": "stream",
          "name": "stdout",
          "text": [
            "Precision scores:\n",
            " 0.501792520537453\n",
            "Recall scores:\n",
            " 0.5018022038372524\n",
            "F1 scores:\n",
            " 0.5017933596229271\n"
          ]
        }
      ]
    },
    {
      "cell_type": "markdown",
      "metadata": {
        "id": "6xvYQFABA-Ov"
      },
      "source": [
        "## Comparing Model"
      ]
    },
    {
      "cell_type": "code",
      "metadata": {
        "id": "EA1xkmoc8jLs"
      },
      "source": [
        "\n",
        "def train(classifier,name='',graph=False):\n",
        "    \n",
        "    scoring = {\n",
        "           'Precision': 'precision_macro',\n",
        "           'Recall': 'recall_macro',\n",
        "           'F1':'f1_macro',\n",
        "           'ROC_AUC'  : 'roc_auc'\n",
        "    }\n",
        "    score_dict = cross_validate(classifier, X_train, y_train,\n",
        "                              cv=10,\n",
        "                              scoring=scoring)\n",
        "    \n",
        "    scores = pd.DataFrame(columns=['Model','Precision','Recall','F1','ROC AUC'])\n",
        "    scores = scores.append(pd.Series({ \n",
        "                                      'Model' : name,\n",
        "                                      # 'Accuracy' : score_dict['test_Accuracy'].mean(),\n",
        "                                      'Precision' : score_dict['test_Precision'].mean(),\n",
        "                                      'Recall' : score_dict['test_Recall'].mean(),\n",
        "                                      'F1' : score_dict['test_F1'].mean(),\n",
        "                                      'ROC AUC' : score_dict['test_ROC_AUC'].mean()\n",
        "    }),ignore_index=True)\n",
        " \n",
        "    return scores"
      ],
      "execution_count": 10,
      "outputs": []
    },
    {
      "cell_type": "code",
      "metadata": {
        "id": "6LcwOwbOuY1E"
      },
      "source": [
        "from sklearn.metrics import classification_report, accuracy_score, make_scorer\n",
        "\n",
        "\n",
        "models =  { \"Decision Tree\" : DecisionTreeClassifier(),\n",
        "            \"Random Forest\" : RandomForestClassifier(),\n",
        "            \"XGBoost\" : XGBClassifier(), \n",
        "            \"LogisticRegression\" : LogisticRegression(max_iter=1200), \n",
        "            \"CatBoost\" :CatBoostClassifier(verbose=False) ,\n",
        "            'LGBM' : LGBMClassifier(),\n",
        "            'KNeighbors' : KNeighborsClassifier(),\n",
        "            'AdaBoost' : AdaBoostClassifier()\n",
        "            }\n",
        "\n",
        "scores = pd.DataFrame(columns=['Model','Precision','Recall','F1','ROC AUC'])\n",
        "# probability = {}\n",
        "\n",
        "for model in models:\n",
        "  scores = scores.append(train(models[model],name=model))"
      ],
      "execution_count": 52,
      "outputs": []
    },
    {
      "cell_type": "code",
      "metadata": {
        "colab": {
          "base_uri": "https://localhost:8080/",
          "height": 297
        },
        "id": "LkftU3aQ0D-4",
        "outputId": "c56182ee-a9bd-456c-f3b0-c79105f3c767"
      },
      "source": [
        "scores.sort_values('Precision',ascending=False).reset_index(drop=True)"
      ],
      "execution_count": 12,
      "outputs": [
        {
          "output_type": "execute_result",
          "data": {
            "text/html": [
              "<div>\n",
              "<style scoped>\n",
              "    .dataframe tbody tr th:only-of-type {\n",
              "        vertical-align: middle;\n",
              "    }\n",
              "\n",
              "    .dataframe tbody tr th {\n",
              "        vertical-align: top;\n",
              "    }\n",
              "\n",
              "    .dataframe thead th {\n",
              "        text-align: right;\n",
              "    }\n",
              "</style>\n",
              "<table border=\"1\" class=\"dataframe\">\n",
              "  <thead>\n",
              "    <tr style=\"text-align: right;\">\n",
              "      <th></th>\n",
              "      <th>Model</th>\n",
              "      <th>Precision</th>\n",
              "      <th>Recall</th>\n",
              "      <th>F1</th>\n",
              "      <th>ROC AUC</th>\n",
              "    </tr>\n",
              "  </thead>\n",
              "  <tbody>\n",
              "    <tr>\n",
              "      <th>0</th>\n",
              "      <td>XGBoost</td>\n",
              "      <td>0.613336</td>\n",
              "      <td>0.603996</td>\n",
              "      <td>0.605559</td>\n",
              "      <td>0.670388</td>\n",
              "    </tr>\n",
              "    <tr>\n",
              "      <th>1</th>\n",
              "      <td>AdaBoost</td>\n",
              "      <td>0.608514</td>\n",
              "      <td>0.584967</td>\n",
              "      <td>0.582144</td>\n",
              "      <td>0.664655</td>\n",
              "    </tr>\n",
              "    <tr>\n",
              "      <th>2</th>\n",
              "      <td>LogisticRegression</td>\n",
              "      <td>0.608458</td>\n",
              "      <td>0.584914</td>\n",
              "      <td>0.582083</td>\n",
              "      <td>0.665045</td>\n",
              "    </tr>\n",
              "    <tr>\n",
              "      <th>3</th>\n",
              "      <td>LGBM</td>\n",
              "      <td>0.607344</td>\n",
              "      <td>0.590921</td>\n",
              "      <td>0.589758</td>\n",
              "      <td>0.668659</td>\n",
              "    </tr>\n",
              "    <tr>\n",
              "      <th>4</th>\n",
              "      <td>Decision Tree</td>\n",
              "      <td>0.606813</td>\n",
              "      <td>0.591238</td>\n",
              "      <td>0.590530</td>\n",
              "      <td>0.667655</td>\n",
              "    </tr>\n",
              "    <tr>\n",
              "      <th>5</th>\n",
              "      <td>CatBoost</td>\n",
              "      <td>0.606548</td>\n",
              "      <td>0.591104</td>\n",
              "      <td>0.590413</td>\n",
              "      <td>0.667688</td>\n",
              "    </tr>\n",
              "    <tr>\n",
              "      <th>6</th>\n",
              "      <td>Random Forest</td>\n",
              "      <td>0.606053</td>\n",
              "      <td>0.590224</td>\n",
              "      <td>0.589469</td>\n",
              "      <td>0.667843</td>\n",
              "    </tr>\n",
              "    <tr>\n",
              "      <th>7</th>\n",
              "      <td>KNeighbors</td>\n",
              "      <td>0.584757</td>\n",
              "      <td>0.580090</td>\n",
              "      <td>0.576272</td>\n",
              "      <td>0.615130</td>\n",
              "    </tr>\n",
              "  </tbody>\n",
              "</table>\n",
              "</div>"
            ],
            "text/plain": [
              "                Model  Precision    Recall        F1   ROC AUC\n",
              "0             XGBoost   0.613336  0.603996  0.605559  0.670388\n",
              "1            AdaBoost   0.608514  0.584967  0.582144  0.664655\n",
              "2  LogisticRegression   0.608458  0.584914  0.582083  0.665045\n",
              "3                LGBM   0.607344  0.590921  0.589758  0.668659\n",
              "4       Decision Tree   0.606813  0.591238  0.590530  0.667655\n",
              "5            CatBoost   0.606548  0.591104  0.590413  0.667688\n",
              "6       Random Forest   0.606053  0.590224  0.589469  0.667843\n",
              "7          KNeighbors   0.584757  0.580090  0.576272  0.615130"
            ]
          },
          "metadata": {},
          "execution_count": 12
        }
      ]
    },
    {
      "cell_type": "markdown",
      "metadata": {
        "id": "m5OjGuP4-OT7"
      },
      "source": [
        "XGBoost seems to be the best model here"
      ]
    },
    {
      "cell_type": "code",
      "metadata": {
        "colab": {
          "base_uri": "https://localhost:8080/"
        },
        "id": "RUhdIGt8lHKA",
        "outputId": "303b632a-d7b1-40fe-f751-c70e688740f0"
      },
      "source": [
        "cross_validate(XGBClassifier(), X_train, y_train, cv=10, scoring='precision_macro')['test_score'].mean()"
      ],
      "execution_count": 13,
      "outputs": [
        {
          "output_type": "execute_result",
          "data": {
            "text/plain": [
              "0.6143927427878876"
            ]
          },
          "metadata": {},
          "execution_count": 13
        }
      ]
    },
    {
      "cell_type": "markdown",
      "metadata": {
        "id": "lbrTeaX-_SZd"
      },
      "source": [
        "## Model Tuning and Train"
      ]
    },
    {
      "cell_type": "code",
      "metadata": {
        "id": "t9tL07FNAtzT",
        "colab": {
          "base_uri": "https://localhost:8080/"
        },
        "outputId": "cb467008-667a-4b41-f49d-34d46534fd9b"
      },
      "source": [
        "\n",
        "param_grid = {\n",
        "    'max_depth':[5,6],\n",
        "    'min_child_weight':[5,6],\n",
        "    'subsample':[.6,.5,.4],\n",
        "    'n_estimators':[500,200],\n",
        "    'colsample_bytree':[.5,.7,.2],\n",
        "    'learning_rate':[.05,.1]\n",
        "}\n",
        "\n",
        "grid = GridSearchCV(estimator=XGBClassifier(),param_grid = param_grid,cv=5)\n",
        "grid.fit(X_train,y_train)\n"
      ],
      "execution_count": 17,
      "outputs": [
        {
          "output_type": "execute_result",
          "data": {
            "text/plain": [
              "GridSearchCV(cv=5, error_score=nan,\n",
              "             estimator=XGBClassifier(base_score=0.5, booster='gbtree',\n",
              "                                     colsample_bylevel=1, colsample_bynode=1,\n",
              "                                     colsample_bytree=1, gamma=0,\n",
              "                                     learning_rate=0.1, max_delta_step=0,\n",
              "                                     max_depth=3, min_child_weight=1,\n",
              "                                     missing=None, n_estimators=100, n_jobs=1,\n",
              "                                     nthread=None, objective='binary:logistic',\n",
              "                                     random_state=0, reg_alpha=0, reg_lambda=1,\n",
              "                                     scale_pos_weight=1, seed=None, silent=None,\n",
              "                                     subsample=1, verbosity=1),\n",
              "             iid='deprecated', n_jobs=None,\n",
              "             param_grid={'colsample_bytree': [0.5, 0.7, 0.2],\n",
              "                         'learning_rate': [0.05, 0.1], 'max_depth': [5, 6],\n",
              "                         'min_child_weight': [5, 6], 'n_estimators': [500, 200],\n",
              "                         'subsample': [0.6, 0.5, 0.4]},\n",
              "             pre_dispatch='2*n_jobs', refit=True, return_train_score=False,\n",
              "             scoring=None, verbose=0)"
            ]
          },
          "metadata": {},
          "execution_count": 17
        }
      ]
    },
    {
      "cell_type": "code",
      "metadata": {
        "id": "mlCkg901XvAq",
        "colab": {
          "base_uri": "https://localhost:8080/"
        },
        "outputId": "0fbf3218-18ff-44be-b49e-546777b7aeb8"
      },
      "source": [
        "grid.best_params_"
      ],
      "execution_count": 18,
      "outputs": [
        {
          "output_type": "execute_result",
          "data": {
            "text/plain": [
              "{'colsample_bytree': 0.5,\n",
              " 'learning_rate': 0.1,\n",
              " 'max_depth': 5,\n",
              " 'min_child_weight': 5,\n",
              " 'n_estimators': 500,\n",
              " 'subsample': 0.5}"
            ]
          },
          "metadata": {},
          "execution_count": 18
        }
      ]
    },
    {
      "cell_type": "code",
      "metadata": {
        "colab": {
          "base_uri": "https://localhost:8080/"
        },
        "id": "FGibP7nLX-i5",
        "outputId": "7dadfe65-982c-43d5-def0-f6b9a10414d0"
      },
      "source": [
        "model = XGBClassifier(max_depth=5, subsample= .5,colsample_bytree=.5,learning_rate=.1,min_child_weight=5,n_estimators=500)\n",
        "history = model.fit(X_train,y_train)\n",
        "pred = model.predict(X_test)\n",
        "print(classification_report(y_test,pred))"
      ],
      "execution_count": 69,
      "outputs": [
        {
          "output_type": "stream",
          "name": "stdout",
          "text": [
            "              precision    recall  f1-score   support\n",
            "\n",
            "           0       0.71      0.71      0.71     15446\n",
            "           1       0.53      0.52      0.52      9566\n",
            "\n",
            "    accuracy                           0.64     25012\n",
            "   macro avg       0.62      0.62      0.62     25012\n",
            "weighted avg       0.64      0.64      0.64     25012\n",
            "\n"
          ]
        }
      ]
    },
    {
      "cell_type": "code",
      "metadata": {
        "colab": {
          "base_uri": "https://localhost:8080/",
          "height": 296
        },
        "id": "bla6WFleHGQa",
        "outputId": "e5766e07-532a-492d-da5d-7d1dab62b347"
      },
      "source": [
        "from sklearn import metrics\n",
        "\n",
        "metrics.plot_roc_curve(model, X_test, y_test)"
      ],
      "execution_count": 70,
      "outputs": [
        {
          "output_type": "execute_result",
          "data": {
            "text/plain": [
              "<sklearn.metrics._plot.roc_curve.RocCurveDisplay at 0x7f7fa5dd1d10>"
            ]
          },
          "metadata": {},
          "execution_count": 70
        },
        {
          "output_type": "display_data",
          "data": {
            "image/png": "[encoded data removed]",
            "text/plain": [
              "<Figure size 432x288 with 1 Axes>"
            ]
          },
          "metadata": {
            "needs_background": "light"
          }
        }
      ]
    },
    {
      "cell_type": "code",
      "metadata": {
        "id": "EEvY78E6Lpg5"
      },
      "source": [
        "def evaluation(model,X,y,threshold=.3):\n",
        "  score = model.predict_proba(X)[:, 1]\n",
        "  result = [(i > threshold) for i in score]\n",
        "  print(classification_report(y, result, labels=[0,1]))\n",
        "  print('Precision avg :', precision_score(y,result,average='weighted'))\n",
        "  print('Recall avg :', recall_score(y,result,average='weighted'))"
      ],
      "execution_count": 98,
      "outputs": []
    },
    {
      "cell_type": "code",
      "metadata": {
        "colab": {
          "base_uri": "https://localhost:8080/"
        },
        "id": "fpLVC4EAMJmj",
        "outputId": "3010eb8e-0284-4f47-eb91-7e24c5fdfcf9"
      },
      "source": [
        "evaluation(model,X_test,y_test)"
      ],
      "execution_count": 99,
      "outputs": [
        {
          "output_type": "stream",
          "name": "stdout",
          "text": [
            "              precision    recall  f1-score   support\n",
            "\n",
            "           0       0.78      0.53      0.63     15446\n",
            "           1       0.50      0.76      0.60      9566\n",
            "\n",
            "    accuracy                           0.62     25012\n",
            "   macro avg       0.64      0.64      0.62     25012\n",
            "weighted avg       0.67      0.62      0.62     25012\n",
            "\n",
            "Precision avg : 0.6719099377785426\n",
            "Recall avg : 0.6174636174636174\n"
          ]
        }
      ]
    },
    {
      "cell_type": "code",
      "metadata": {
        "colab": {
          "base_uri": "https://localhost:8080/"
        },
        "id": "Vr0OWV5WcOvE",
        "outputId": "c0770868-3912-4f4a-850d-12844d451f7d"
      },
      "source": [
        "pip install shap"
      ],
      "execution_count": 41,
      "outputs": [
        {
          "output_type": "stream",
          "name": "stdout",
          "text": [
            "Collecting shap\n",
            "  Downloading shap-0.39.0.tar.gz (356 kB)\n",
            "\u001b[K     |████████████████████████████████| 356 kB 5.3 MB/s \n",
            "\u001b[?25hRequirement already satisfied: numpy in /usr/local/lib/python3.7/dist-packages (from shap) (1.19.5)\n",
            "Requirement already satisfied: scipy in /usr/local/lib/python3.7/dist-packages (from shap) (1.4.1)\n",
            "Requirement already satisfied: scikit-learn in /usr/local/lib/python3.7/dist-packages (from shap) (0.22.2.post1)\n",
            "Requirement already satisfied: pandas in /usr/local/lib/python3.7/dist-packages (from shap) (1.1.5)\n",
            "Requirement already satisfied: tqdm>4.25.0 in /usr/local/lib/python3.7/dist-packages (from shap) (4.62.0)\n",
            "Collecting slicer==0.0.7\n",
            "  Downloading slicer-0.0.7-py3-none-any.whl (14 kB)\n",
            "Requirement already satisfied: numba in /usr/local/lib/python3.7/dist-packages (from shap) (0.51.2)\n",
            "Requirement already satisfied: cloudpickle in /usr/local/lib/python3.7/dist-packages (from shap) (1.3.0)\n",
            "Requirement already satisfied: llvmlite<0.35,>=0.34.0.dev0 in /usr/local/lib/python3.7/dist-packages (from numba->shap) (0.34.0)\n",
            "Requirement already satisfied: setuptools in /usr/local/lib/python3.7/dist-packages (from numba->shap) (57.4.0)\n",
            "Requirement already satisfied: pytz>=2017.2 in /usr/local/lib/python3.7/dist-packages (from pandas->shap) (2018.9)\n",
            "Requirement already satisfied: python-dateutil>=2.7.3 in /usr/local/lib/python3.7/dist-packages (from pandas->shap) (2.8.2)\n",
            "Requirement already satisfied: six>=1.5 in /usr/local/lib/python3.7/dist-packages (from python-dateutil>=2.7.3->pandas->shap) (1.15.0)\n",
            "Requirement already satisfied: joblib>=0.11 in /usr/local/lib/python3.7/dist-packages (from scikit-learn->shap) (1.0.1)\n",
            "Building wheels for collected packages: shap\n",
            "  Building wheel for shap (setup.py) ... \u001b[?25l\u001b[?25hdone\n",
            "  Created wheel for shap: filename=shap-0.39.0-cp37-cp37m-linux_x86_64.whl size=491645 sha256=a8b7c94a35d4c2be0ad5d484d77fd96ae1a45a4c9c30015fb7c396bf0417a698\n",
            "  Stored in directory: /root/.cache/pip/wheels/ca/25/8f/6ae5df62c32651cd719e972e738a8aaa4a87414c4d2b14c9c0\n",
            "Successfully built shap\n",
            "Installing collected packages: slicer, shap\n",
            "Successfully installed shap-0.39.0 slicer-0.0.7\n"
          ]
        }
      ]
    },
    {
      "cell_type": "code",
      "metadata": {
        "colab": {
          "base_uri": "https://localhost:8080/",
          "height": 324
        },
        "id": "yE6_hU22PRj_",
        "outputId": "221093c4-6e33-486b-894c-d8cbc801fda4"
      },
      "source": [
        "import shap  \n",
        "\n",
        "explainer = shap.TreeExplainer(model)\n",
        "\n",
        "shap_values = explainer.shap_values(X_test)\n",
        "\n",
        "\n",
        "shap.summary_plot(shap_values, X_test)"
      ],
      "execution_count": 42,
      "outputs": [
        {
          "output_type": "display_data",
          "data": {
            "image/png": "[encoded data removed]",
            "text/plain": [
              "<Figure size 576x338.4 with 2 Axes>"
            ]
          },
          "metadata": {
            "needs_background": "light"
          }
        }
      ]
    },
    {
      "cell_type": "markdown",
      "metadata": {
        "id": "nQKW1CXOamaq"
      },
      "source": [
        "## Evaluation on Unseen Values"
      ]
    },
    {
      "cell_type": "code",
      "metadata": {
        "id": "14II0ClpJ8SY",
        "colab": {
          "base_uri": "https://localhost:8080/"
        },
        "outputId": "b1e7a742-c74f-42bf-da14-f55fa51fd31f"
      },
      "source": [
        "evaluation(model,X_valid,y_valid)"
      ],
      "execution_count": 100,
      "outputs": [
        {
          "output_type": "stream",
          "name": "stdout",
          "text": [
            "              precision    recall  f1-score   support\n",
            "\n",
            "           0       0.70      0.58      0.64      9915\n",
            "           1       0.67      0.77      0.72     10935\n",
            "\n",
            "    accuracy                           0.68     20850\n",
            "   macro avg       0.69      0.68      0.68     20850\n",
            "weighted avg       0.68      0.68      0.68     20850\n",
            "\n",
            "Precision avg : 0.6847882302406751\n",
            "Recall avg : 0.6824460431654676\n"
          ]
        }
      ]
    },
    {
      "cell_type": "markdown",
      "metadata": {
        "id": "8mwZ1Y8Bf1yA"
      },
      "source": [
        "The result is more or less are similar from the distribution although the scores are pretty low and the weighted average is really far from the test we still have a decent a near precision score from the test, around 68%."
      ]
    }
  ]
}
