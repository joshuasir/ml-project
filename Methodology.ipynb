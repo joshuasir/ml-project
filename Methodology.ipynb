{
  "nbformat": 4,
  "nbformat_minor": 0,
  "metadata": {
    "accelerator": "GPU",
    "colab": {
      "name": "Methodology.ipynb",
      "provenance": [],
      "collapsed_sections": []
    },
    "kernelspec": {
      "display_name": "Python 3",
      "name": "python3"
    },
    "language_info": {
      "name": "python"
    }
  },
  "cells": [
    {
      "cell_type": "code",
      "metadata": {
        "colab": {
          "base_uri": "https://localhost:8080/"
        },
        "id": "zSH5Qo0UwB4N",
        "outputId": "f3673c2f-4917-4757-9579-3a51336a6296"
      },
      "source": [
        "pip install catboost"
      ],
      "execution_count": 1,
      "outputs": [
        {
          "output_type": "stream",
          "name": "stdout",
          "text": [
            "Collecting catboost\n",
            "  Downloading catboost-0.26.1-cp37-none-manylinux1_x86_64.whl (67.4 MB)\n",
            "\u001b[K     |████████████████████████████████| 67.4 MB 27 kB/s \n",
            "\u001b[?25hRequirement already satisfied: six in /usr/local/lib/python3.7/dist-packages (from catboost) (1.15.0)\n",
            "Requirement already satisfied: plotly in /usr/local/lib/python3.7/dist-packages (from catboost) (4.4.1)\n",
            "Requirement already satisfied: graphviz in /usr/local/lib/python3.7/dist-packages (from catboost) (0.10.1)\n",
            "Requirement already satisfied: pandas>=0.24.0 in /usr/local/lib/python3.7/dist-packages (from catboost) (1.1.5)\n",
            "Requirement already satisfied: matplotlib in /usr/local/lib/python3.7/dist-packages (from catboost) (3.2.2)\n",
            "Requirement already satisfied: scipy in /usr/local/lib/python3.7/dist-packages (from catboost) (1.4.1)\n",
            "Requirement already satisfied: numpy>=1.16.0 in /usr/local/lib/python3.7/dist-packages (from catboost) (1.19.5)\n",
            "Requirement already satisfied: pytz>=2017.2 in /usr/local/lib/python3.7/dist-packages (from pandas>=0.24.0->catboost) (2018.9)\n",
            "Requirement already satisfied: python-dateutil>=2.7.3 in /usr/local/lib/python3.7/dist-packages (from pandas>=0.24.0->catboost) (2.8.2)\n",
            "Requirement already satisfied: pyparsing!=2.0.4,!=2.1.2,!=2.1.6,>=2.0.1 in /usr/local/lib/python3.7/dist-packages (from matplotlib->catboost) (2.4.7)\n",
            "Requirement already satisfied: kiwisolver>=1.0.1 in /usr/local/lib/python3.7/dist-packages (from matplotlib->catboost) (1.3.1)\n",
            "Requirement already satisfied: cycler>=0.10 in /usr/local/lib/python3.7/dist-packages (from matplotlib->catboost) (0.10.0)\n",
            "Requirement already satisfied: retrying>=1.3.3 in /usr/local/lib/python3.7/dist-packages (from plotly->catboost) (1.3.3)\n",
            "Installing collected packages: catboost\n",
            "Successfully installed catboost-0.26.1\n"
          ]
        }
      ]
    },
    {
      "cell_type": "code",
      "metadata": {
        "id": "V1wLn5vPxk-k"
      },
      "source": [
        "import pandas as pd\n",
        "from sklearn.dummy import DummyClassifier\n",
        "from sklearn.model_selection import cross_validate\n",
        "from sklearn.ensemble import RandomForestClassifier,AdaBoostClassifier\n",
        "from sklearn.linear_model import LogisticRegression\n",
        "from sklearn.tree import DecisionTreeClassifier\n",
        "from xgboost import XGBClassifier\n",
        "from catboost import CatBoostClassifier\n",
        "from lightgbm import LGBMClassifier\n",
        "from sklearn.metrics import classification_report,make_scorer,precision_score,recall_score\n",
        "from sklearn.model_selection import train_test_split,GridSearchCV\n",
        "from sklearn import metrics\n",
        "from sklearn.dummy import DummyClassifier\n",
        "from sklearn.neighbors import KNeighborsClassifier\n"
      ],
      "execution_count": 2,
      "outputs": []
    },
    {
      "cell_type": "code",
      "metadata": {
        "id": "ppCdaxlDzRDW"
      },
      "source": [
        "df = pd.read_csv('https://raw.githubusercontent.com/joshuasir/ml-project/main/datasets-stock-exchange/stock-market-train-clean.csv')\n",
        "df_test = pd.read_csv('https://raw.githubusercontent.com/joshuasir/ml-project/main/datasets-stock-exchange/stock-market-test-clean.csv')"
      ],
      "execution_count": 71,
      "outputs": []
    },
    {
      "cell_type": "code",
      "metadata": {
        "colab": {
          "base_uri": "https://localhost:8080/",
          "height": 204
        },
        "id": "7aWjwXGwMVUz",
        "outputId": "486a846a-12d5-4ed6-e5aa-fed3707d9ff8"
      },
      "source": [
        "df.head()"
      ],
      "execution_count": 13,
      "outputs": [
        {
          "output_type": "execute_result",
          "data": {
            "text/html": [
              "<div>\n",
              "<style scoped>\n",
              "    .dataframe tbody tr th:only-of-type {\n",
              "        vertical-align: middle;\n",
              "    }\n",
              "\n",
              "    .dataframe tbody tr th {\n",
              "        vertical-align: top;\n",
              "    }\n",
              "\n",
              "    .dataframe thead th {\n",
              "        text-align: right;\n",
              "    }\n",
              "</style>\n",
              "<table border=\"1\" class=\"dataframe\">\n",
              "  <thead>\n",
              "    <tr style=\"text-align: right;\">\n",
              "      <th></th>\n",
              "      <th>SMA</th>\n",
              "      <th>EMA</th>\n",
              "      <th>WMA</th>\n",
              "      <th>RSI</th>\n",
              "      <th>MOM</th>\n",
              "      <th>STC</th>\n",
              "      <th>CCI</th>\n",
              "      <th>Target</th>\n",
              "      <th>MACD</th>\n",
              "      <th>SIG</th>\n",
              "    </tr>\n",
              "  </thead>\n",
              "  <tbody>\n",
              "    <tr>\n",
              "      <th>0</th>\n",
              "      <td>4900.000476</td>\n",
              "      <td>5020.087951</td>\n",
              "      <td>5010.418001</td>\n",
              "      <td>51.429758</td>\n",
              "      <td>-151.020019</td>\n",
              "      <td>5.053916e+01</td>\n",
              "      <td>-2.245385</td>\n",
              "      <td>1</td>\n",
              "      <td>31.471910</td>\n",
              "      <td>54.847689</td>\n",
              "    </tr>\n",
              "    <tr>\n",
              "      <th>1</th>\n",
              "      <td>10413.451245</td>\n",
              "      <td>10681.954822</td>\n",
              "      <td>10707.140105</td>\n",
              "      <td>58.814760</td>\n",
              "      <td>115.250000</td>\n",
              "      <td>1.000000e+02</td>\n",
              "      <td>106.378001</td>\n",
              "      <td>1</td>\n",
              "      <td>93.761021</td>\n",
              "      <td>88.574211</td>\n",
              "    </tr>\n",
              "    <tr>\n",
              "      <th>2</th>\n",
              "      <td>16275.027963</td>\n",
              "      <td>15939.891071</td>\n",
              "      <td>15896.112086</td>\n",
              "      <td>36.704528</td>\n",
              "      <td>-544.620120</td>\n",
              "      <td>2.368476e-14</td>\n",
              "      <td>-111.855154</td>\n",
              "      <td>1</td>\n",
              "      <td>-187.684112</td>\n",
              "      <td>-123.642882</td>\n",
              "    </tr>\n",
              "    <tr>\n",
              "      <th>3</th>\n",
              "      <td>2083.788521</td>\n",
              "      <td>2001.285467</td>\n",
              "      <td>1989.849091</td>\n",
              "      <td>25.730361</td>\n",
              "      <td>-96.630005</td>\n",
              "      <td>0.000000e+00</td>\n",
              "      <td>-128.284676</td>\n",
              "      <td>0</td>\n",
              "      <td>-35.048194</td>\n",
              "      <td>-25.875564</td>\n",
              "    </tr>\n",
              "    <tr>\n",
              "      <th>4</th>\n",
              "      <td>1026.667558</td>\n",
              "      <td>1046.315897</td>\n",
              "      <td>1050.611778</td>\n",
              "      <td>54.826030</td>\n",
              "      <td>28.849975</td>\n",
              "      <td>9.831526e+01</td>\n",
              "      <td>53.778929</td>\n",
              "      <td>0</td>\n",
              "      <td>9.237960</td>\n",
              "      <td>8.281168</td>\n",
              "    </tr>\n",
              "  </tbody>\n",
              "</table>\n",
              "</div>"
            ],
            "text/plain": [
              "            SMA           EMA           WMA  ...  Target        MACD         SIG\n",
              "0   4900.000476   5020.087951   5010.418001  ...       1   31.471910   54.847689\n",
              "1  10413.451245  10681.954822  10707.140105  ...       1   93.761021   88.574211\n",
              "2  16275.027963  15939.891071  15896.112086  ...       1 -187.684112 -123.642882\n",
              "3   2083.788521   2001.285467   1989.849091  ...       0  -35.048194  -25.875564\n",
              "4   1026.667558   1046.315897   1050.611778  ...       0    9.237960    8.281168\n",
              "\n",
              "[5 rows x 10 columns]"
            ]
          },
          "metadata": {},
          "execution_count": 13
        }
      ]
    },
    {
      "cell_type": "code",
      "metadata": {
        "id": "YbehtcOFuJR2"
      },
      "source": [
        "X = df.copy()\n",
        "y = X.pop('Target')\n",
        "X_valid = df_test.copy()\n",
        "y_valid = X_valid.pop('Target')\n",
        "\n",
        "X_train,X_test,y_train,y_test = train_test_split(X,y,test_size=.3,stratify=y,random_state=42)"
      ],
      "execution_count": 72,
      "outputs": []
    },
    {
      "cell_type": "code",
      "metadata": {
        "colab": {
          "base_uri": "https://localhost:8080/"
        },
        "id": "yN_bJe2icYbm",
        "outputId": "378d222f-4914-42a1-9d8d-756694e3a2af"
      },
      "source": [
        "y.value_counts()"
      ],
      "execution_count": 15,
      "outputs": [
        {
          "output_type": "execute_result",
          "data": {
            "text/plain": [
              "0    42530\n",
              "1    29698\n",
              "Name: Target, dtype: int64"
            ]
          },
          "metadata": {},
          "execution_count": 15
        }
      ]
    },
    {
      "cell_type": "markdown",
      "metadata": {
        "id": "ssSnyH_m8Oy3"
      },
      "source": [
        "we will be using cross validation and precision as our metric since our data is unbalance"
      ]
    },
    {
      "cell_type": "markdown",
      "metadata": {
        "id": "M0xJXSgk-6Dw"
      },
      "source": [
        "## Baseline Model"
      ]
    },
    {
      "cell_type": "code",
      "metadata": {
        "colab": {
          "base_uri": "https://localhost:8080/"
        },
        "id": "MBXyvg-muUZH",
        "outputId": "3f6805ce-38d3-4a29-a6eb-b8230358786d"
      },
      "source": [
        "model = DummyClassifier(strategy='stratified')\n",
        "\n",
        "\n",
        "scoring = {'Accuracy': 'accuracy',\n",
        "           'Precision': 'precision_macro',\n",
        "           'Recall': 'recall_macro',\n",
        "           'F1':'f1_macro',\n",
        "    }\n",
        "\n",
        "\n",
        "scores = cross_validate(model, X_train, y_train,\n",
        "                              cv=5,\n",
        "                              scoring=scoring)\n",
        "\n",
        "print(\"Precision scores:\\n\", scores['test_Precision'].mean())\n",
        "print(\"Recall scores:\\n\", scores['test_Recall'].mean())\n",
        "print(\"F1 scores:\\n\", scores['test_F1'].mean())\n",
        "\n",
        "# print('Dummy Classifier :', model.score(y_test,pred))\n",
        "# print(classification_report(y_test,pred))"
      ],
      "execution_count": 16,
      "outputs": [
        {
          "output_type": "stream",
          "name": "stdout",
          "text": [
            "Precision scores:\n",
            " 0.499454836383893\n",
            "Recall scores:\n",
            " 0.49945866570447073\n",
            "F1 scores:\n",
            " 0.4994527517069871\n"
          ]
        }
      ]
    },
    {
      "cell_type": "markdown",
      "metadata": {
        "id": "6xvYQFABA-Ov"
      },
      "source": [
        "## Comparing Model"
      ]
    },
    {
      "cell_type": "code",
      "metadata": {
        "id": "EA1xkmoc8jLs"
      },
      "source": [
        "\n",
        "def train(classifier,name='',graph=False):\n",
        "    \n",
        "    scoring = {\n",
        "           'Precision': 'precision_macro',\n",
        "           'Recall': 'recall_macro',\n",
        "           'F1':'f1_macro',\n",
        "           'ROC_AUC'  : 'roc_auc'\n",
        "    }\n",
        "    score_dict = cross_validate(classifier, X_train, y_train,\n",
        "                              cv=10,\n",
        "                              scoring=scoring)\n",
        "    \n",
        "    scores = pd.DataFrame(columns=['Model','Precision','Recall','F1','ROC AUC'])\n",
        "    scores = scores.append(pd.Series({ \n",
        "                                      'Model' : name,\n",
        "                                      # 'Accuracy' : score_dict['test_Accuracy'].mean(),\n",
        "                                      'Precision' : score_dict['test_Precision'].mean(),\n",
        "                                      'Recall' : score_dict['test_Recall'].mean(),\n",
        "                                      'F1' : score_dict['test_F1'].mean(),\n",
        "                                      'ROC AUC' : score_dict['test_ROC_AUC'].mean()\n",
        "    }),ignore_index=True)\n",
        " \n",
        "    return scores"
      ],
      "execution_count": 17,
      "outputs": []
    },
    {
      "cell_type": "code",
      "metadata": {
        "id": "6LcwOwbOuY1E",
        "colab": {
          "base_uri": "https://localhost:8080/"
        },
        "outputId": "716a4180-7fc6-4d49-f19b-5eeafb98d7b0"
      },
      "source": [
        "from sklearn.metrics import classification_report, accuracy_score, make_scorer\n",
        "\n",
        "\n",
        "models =  { \"Decision Tree\" : DecisionTreeClassifier(),\n",
        "            \"Random Forest\" : RandomForestClassifier(),\n",
        "            \"XGBoost\" : XGBClassifier(), \n",
        "            \"LogisticRegression\" : LogisticRegression(max_iter=1200), \n",
        "            \"CatBoost\" :CatBoostClassifier(verbose=False) ,\n",
        "            'LGBM' : LGBMClassifier(),\n",
        "            'KNeighbors' : KNeighborsClassifier(),\n",
        "            'AdaBoost' : AdaBoostClassifier()\n",
        "            }\n",
        "\n",
        "scores = pd.DataFrame(columns=['Model','Precision','Recall','F1','ROC AUC'])\n",
        "# probability = {}\n",
        "\n",
        "for model in models:\n",
        "  scores = scores.append(train(models[model],name=model))"
      ],
      "execution_count": 18,
      "outputs": [
        {
          "output_type": "stream",
          "name": "stderr",
          "text": [
            "Custom logger is already specified. Specify more than one logger at same time is not thread safe."
          ]
        }
      ]
    },
    {
      "cell_type": "code",
      "metadata": {
        "colab": {
          "base_uri": "https://localhost:8080/",
          "height": 297
        },
        "id": "LkftU3aQ0D-4",
        "outputId": "74fdc436-e093-40ef-b99b-b3469c010a1c"
      },
      "source": [
        "scores.sort_values('Precision',ascending=False).reset_index(drop=True)"
      ],
      "execution_count": 19,
      "outputs": [
        {
          "output_type": "execute_result",
          "data": {
            "text/html": [
              "<div>\n",
              "<style scoped>\n",
              "    .dataframe tbody tr th:only-of-type {\n",
              "        vertical-align: middle;\n",
              "    }\n",
              "\n",
              "    .dataframe tbody tr th {\n",
              "        vertical-align: top;\n",
              "    }\n",
              "\n",
              "    .dataframe thead th {\n",
              "        text-align: right;\n",
              "    }\n",
              "</style>\n",
              "<table border=\"1\" class=\"dataframe\">\n",
              "  <thead>\n",
              "    <tr style=\"text-align: right;\">\n",
              "      <th></th>\n",
              "      <th>Model</th>\n",
              "      <th>Precision</th>\n",
              "      <th>Recall</th>\n",
              "      <th>F1</th>\n",
              "      <th>ROC AUC</th>\n",
              "    </tr>\n",
              "  </thead>\n",
              "  <tbody>\n",
              "    <tr>\n",
              "      <th>0</th>\n",
              "      <td>CatBoost</td>\n",
              "      <td>0.749528</td>\n",
              "      <td>0.738343</td>\n",
              "      <td>0.741983</td>\n",
              "      <td>0.835827</td>\n",
              "    </tr>\n",
              "    <tr>\n",
              "      <th>1</th>\n",
              "      <td>LGBM</td>\n",
              "      <td>0.743557</td>\n",
              "      <td>0.731782</td>\n",
              "      <td>0.735476</td>\n",
              "      <td>0.828733</td>\n",
              "    </tr>\n",
              "    <tr>\n",
              "      <th>2</th>\n",
              "      <td>Random Forest</td>\n",
              "      <td>0.731098</td>\n",
              "      <td>0.719671</td>\n",
              "      <td>0.723153</td>\n",
              "      <td>0.812777</td>\n",
              "    </tr>\n",
              "    <tr>\n",
              "      <th>3</th>\n",
              "      <td>XGBoost</td>\n",
              "      <td>0.714079</td>\n",
              "      <td>0.690940</td>\n",
              "      <td>0.694863</td>\n",
              "      <td>0.788156</td>\n",
              "    </tr>\n",
              "    <tr>\n",
              "      <th>4</th>\n",
              "      <td>AdaBoost</td>\n",
              "      <td>0.700453</td>\n",
              "      <td>0.684055</td>\n",
              "      <td>0.687393</td>\n",
              "      <td>0.771144</td>\n",
              "    </tr>\n",
              "    <tr>\n",
              "      <th>5</th>\n",
              "      <td>Decision Tree</td>\n",
              "      <td>0.653306</td>\n",
              "      <td>0.653140</td>\n",
              "      <td>0.653208</td>\n",
              "      <td>0.653140</td>\n",
              "    </tr>\n",
              "    <tr>\n",
              "      <th>6</th>\n",
              "      <td>LogisticRegression</td>\n",
              "      <td>0.630016</td>\n",
              "      <td>0.582280</td>\n",
              "      <td>0.565447</td>\n",
              "      <td>0.672487</td>\n",
              "    </tr>\n",
              "    <tr>\n",
              "      <th>7</th>\n",
              "      <td>KNeighbors</td>\n",
              "      <td>0.591965</td>\n",
              "      <td>0.588349</td>\n",
              "      <td>0.588940</td>\n",
              "      <td>0.638127</td>\n",
              "    </tr>\n",
              "  </tbody>\n",
              "</table>\n",
              "</div>"
            ],
            "text/plain": [
              "                Model  Precision    Recall        F1   ROC AUC\n",
              "0            CatBoost   0.749528  0.738343  0.741983  0.835827\n",
              "1                LGBM   0.743557  0.731782  0.735476  0.828733\n",
              "2       Random Forest   0.731098  0.719671  0.723153  0.812777\n",
              "3             XGBoost   0.714079  0.690940  0.694863  0.788156\n",
              "4            AdaBoost   0.700453  0.684055  0.687393  0.771144\n",
              "5       Decision Tree   0.653306  0.653140  0.653208  0.653140\n",
              "6  LogisticRegression   0.630016  0.582280  0.565447  0.672487\n",
              "7          KNeighbors   0.591965  0.588349  0.588940  0.638127"
            ]
          },
          "metadata": {},
          "execution_count": 19
        }
      ]
    },
    {
      "cell_type": "markdown",
      "metadata": {
        "id": "m5OjGuP4-OT7"
      },
      "source": [
        "CatBoost seems to be the best model here"
      ]
    },
    {
      "cell_type": "code",
      "metadata": {
        "colab": {
          "base_uri": "https://localhost:8080/"
        },
        "id": "RUhdIGt8lHKA",
        "outputId": "f350bfc7-dcff-4e49-8ece-fa71e92294ca"
      },
      "source": [
        "cross_validate(CatBoostClassifier(verbose=False), X_train, y_train, cv=10, scoring='precision_macro')['test_score'].mean()"
      ],
      "execution_count": 20,
      "outputs": [
        {
          "output_type": "execute_result",
          "data": {
            "text/plain": [
              "0.7495280870999379"
            ]
          },
          "metadata": {},
          "execution_count": 20
        }
      ]
    },
    {
      "cell_type": "markdown",
      "metadata": {
        "id": "lbrTeaX-_SZd"
      },
      "source": [
        "## Model Tuning and Train"
      ]
    },
    {
      "cell_type": "code",
      "metadata": {
        "id": "t9tL07FNAtzT"
      },
      "source": [
        "\n",
        "param_grid = {\n",
        "    'depth':[7,8,5],\n",
        "    'learning_rate':[.1,.05],\n",
        "    'iterations':[800,900,700],\n",
        "    'l2_leaf_reg':[9,5]\n",
        "}\n",
        "\n",
        "grid = GridSearchCV(estimator=CatBoostClassifier(),param_grid = param_grid,cv=5)\n",
        "grid.fit(X_train,y_train)\n"
      ],
      "execution_count": null,
      "outputs": []
    },
    {
      "cell_type": "code",
      "metadata": {
        "colab": {
          "base_uri": "https://localhost:8080/"
        },
        "id": "mlCkg901XvAq",
        "outputId": "92b9ee94-a9b1-4365-9278-a2e02c1d0915"
      },
      "source": [
        "grid.best_params_"
      ],
      "execution_count": 26,
      "outputs": [
        {
          "output_type": "execute_result",
          "data": {
            "text/plain": [
              "{'depth': 8, 'iterations': 800, 'l2_leaf_reg': 9, 'learning_rate': 0.1}"
            ]
          },
          "metadata": {},
          "execution_count": 26
        }
      ]
    },
    {
      "cell_type": "code",
      "metadata": {
        "colab": {
          "base_uri": "https://localhost:8080/"
        },
        "id": "FGibP7nLX-i5",
        "outputId": "95cfbabe-afe6-4ed3-c463-0505f4849f1c"
      },
      "source": [
        "model = CatBoostClassifier(depth=8,iterations=800,l2_leaf_reg=9,learning_rate=.1,verbose=False)\n",
        "history = model.fit(X_train,y_train)\n",
        "pred = model.predict(X_test)\n",
        "print(classification_report(y_test,pred))"
      ],
      "execution_count": 27,
      "outputs": [
        {
          "output_type": "stream",
          "name": "stdout",
          "text": [
            "              precision    recall  f1-score   support\n",
            "\n",
            "           0       0.78      0.83      0.81     12759\n",
            "           1       0.74      0.66      0.70      8910\n",
            "\n",
            "    accuracy                           0.76     21669\n",
            "   macro avg       0.76      0.75      0.75     21669\n",
            "weighted avg       0.76      0.76      0.76     21669\n",
            "\n"
          ]
        }
      ]
    },
    {
      "cell_type": "code",
      "metadata": {
        "colab": {
          "base_uri": "https://localhost:8080/",
          "height": 296
        },
        "id": "bla6WFleHGQa",
        "outputId": "507553e5-13fc-4dd6-9fa2-fe6ab79d62e0"
      },
      "source": [
        "from sklearn import metrics\n",
        "\n",
        "metrics.plot_roc_curve(model, X_test, y_test)"
      ],
      "execution_count": 28,
      "outputs": [
        {
          "output_type": "execute_result",
          "data": {
            "text/plain": [
              "<sklearn.metrics._plot.roc_curve.RocCurveDisplay at 0x7f80493a87d0>"
            ]
          },
          "metadata": {},
          "execution_count": 28
        },
        {
          "output_type": "display_data",
          "data": {
            "image/png": "[encoded data removed]",
            "text/plain": [
              "<Figure size 432x288 with 1 Axes>"
            ]
          },
          "metadata": {
            "needs_background": "light"
          }
        }
      ]
    },
    {
      "cell_type": "markdown",
      "metadata": {
        "id": "2gOKLqySyif1"
      },
      "source": [
        "let's move the threshold to get a better result"
      ]
    },
    {
      "cell_type": "code",
      "metadata": {
        "id": "EEvY78E6Lpg5"
      },
      "source": [
        "def evaluation(model,X,y,threshold=.44):\n",
        "  score = model.predict_proba(X)[:, 1]\n",
        "  result = [(i > threshold) for i in score]\n",
        "  print(classification_report(y, result, labels=[0,1]))\n",
        "  print('Precision avg :', precision_score(y,result,average='weighted'))\n",
        "  print('Recall avg :', recall_score(y,result,average='weighted'))"
      ],
      "execution_count": 66,
      "outputs": []
    },
    {
      "cell_type": "code",
      "metadata": {
        "colab": {
          "base_uri": "https://localhost:8080/"
        },
        "id": "fpLVC4EAMJmj",
        "outputId": "a4ac8750-9c26-4e06-fea5-868926606e3c"
      },
      "source": [
        "evaluation(model,X_test,y_test)"
      ],
      "execution_count": 67,
      "outputs": [
        {
          "output_type": "stream",
          "name": "stdout",
          "text": [
            "              precision    recall  f1-score   support\n",
            "\n",
            "           0       0.81      0.78      0.80     12759\n",
            "           1       0.70      0.74      0.72      8910\n",
            "\n",
            "    accuracy                           0.76     21669\n",
            "   macro avg       0.76      0.76      0.76     21669\n",
            "weighted avg       0.77      0.76      0.76     21669\n",
            "\n",
            "Precision avg : 0.7650115906094975\n",
            "Recall avg : 0.7629793714523051\n"
          ]
        }
      ]
    },
    {
      "cell_type": "code",
      "metadata": {
        "colab": {
          "base_uri": "https://localhost:8080/"
        },
        "id": "Vr0OWV5WcOvE",
        "outputId": "adbcbe05-967c-4d61-bee3-1e69ba63bcd9"
      },
      "source": [
        "pip install shap"
      ],
      "execution_count": 37,
      "outputs": [
        {
          "output_type": "stream",
          "name": "stdout",
          "text": [
            "Collecting shap\n",
            "  Downloading shap-0.39.0.tar.gz (356 kB)\n",
            "\u001b[?25l\r\u001b[K     |█                               | 10 kB 23.3 MB/s eta 0:00:01\r\u001b[K     |█▉                              | 20 kB 28.8 MB/s eta 0:00:01\r\u001b[K     |██▊                             | 30 kB 31.5 MB/s eta 0:00:01\r\u001b[K     |███▊                            | 40 kB 21.0 MB/s eta 0:00:01\r\u001b[K     |████▋                           | 51 kB 9.1 MB/s eta 0:00:01\r\u001b[K     |█████▌                          | 61 kB 9.8 MB/s eta 0:00:01\r\u001b[K     |██████▍                         | 71 kB 7.8 MB/s eta 0:00:01\r\u001b[K     |███████▍                        | 81 kB 8.6 MB/s eta 0:00:01\r\u001b[K     |████████▎                       | 92 kB 7.5 MB/s eta 0:00:01\r\u001b[K     |█████████▏                      | 102 kB 8.1 MB/s eta 0:00:01\r\u001b[K     |██████████▏                     | 112 kB 8.1 MB/s eta 0:00:01\r\u001b[K     |███████████                     | 122 kB 8.1 MB/s eta 0:00:01\r\u001b[K     |████████████                    | 133 kB 8.1 MB/s eta 0:00:01\r\u001b[K     |████████████▉                   | 143 kB 8.1 MB/s eta 0:00:01\r\u001b[K     |█████████████▉                  | 153 kB 8.1 MB/s eta 0:00:01\r\u001b[K     |██████████████▊                 | 163 kB 8.1 MB/s eta 0:00:01\r\u001b[K     |███████████████▋                | 174 kB 8.1 MB/s eta 0:00:01\r\u001b[K     |████████████████▋               | 184 kB 8.1 MB/s eta 0:00:01\r\u001b[K     |█████████████████▌              | 194 kB 8.1 MB/s eta 0:00:01\r\u001b[K     |██████████████████▍             | 204 kB 8.1 MB/s eta 0:00:01\r\u001b[K     |███████████████████▎            | 215 kB 8.1 MB/s eta 0:00:01\r\u001b[K     |████████████████████▎           | 225 kB 8.1 MB/s eta 0:00:01\r\u001b[K     |█████████████████████▏          | 235 kB 8.1 MB/s eta 0:00:01\r\u001b[K     |██████████████████████          | 245 kB 8.1 MB/s eta 0:00:01\r\u001b[K     |███████████████████████         | 256 kB 8.1 MB/s eta 0:00:01\r\u001b[K     |████████████████████████        | 266 kB 8.1 MB/s eta 0:00:01\r\u001b[K     |████████████████████████▉       | 276 kB 8.1 MB/s eta 0:00:01\r\u001b[K     |█████████████████████████▊      | 286 kB 8.1 MB/s eta 0:00:01\r\u001b[K     |██████████████████████████▊     | 296 kB 8.1 MB/s eta 0:00:01\r\u001b[K     |███████████████████████████▋    | 307 kB 8.1 MB/s eta 0:00:01\r\u001b[K     |████████████████████████████▌   | 317 kB 8.1 MB/s eta 0:00:01\r\u001b[K     |█████████████████████████████▍  | 327 kB 8.1 MB/s eta 0:00:01\r\u001b[K     |██████████████████████████████▍ | 337 kB 8.1 MB/s eta 0:00:01\r\u001b[K     |███████████████████████████████▎| 348 kB 8.1 MB/s eta 0:00:01\r\u001b[K     |████████████████████████████████| 356 kB 8.1 MB/s \n",
            "\u001b[?25hRequirement already satisfied: numpy in /usr/local/lib/python3.7/dist-packages (from shap) (1.19.5)\n",
            "Requirement already satisfied: scipy in /usr/local/lib/python3.7/dist-packages (from shap) (1.4.1)\n",
            "Requirement already satisfied: scikit-learn in /usr/local/lib/python3.7/dist-packages (from shap) (0.22.2.post1)\n",
            "Requirement already satisfied: pandas in /usr/local/lib/python3.7/dist-packages (from shap) (1.1.5)\n",
            "Requirement already satisfied: tqdm>4.25.0 in /usr/local/lib/python3.7/dist-packages (from shap) (4.62.0)\n",
            "Collecting slicer==0.0.7\n",
            "  Downloading slicer-0.0.7-py3-none-any.whl (14 kB)\n",
            "Requirement already satisfied: numba in /usr/local/lib/python3.7/dist-packages (from shap) (0.51.2)\n",
            "Requirement already satisfied: cloudpickle in /usr/local/lib/python3.7/dist-packages (from shap) (1.3.0)\n",
            "Requirement already satisfied: setuptools in /usr/local/lib/python3.7/dist-packages (from numba->shap) (57.4.0)\n",
            "Requirement already satisfied: llvmlite<0.35,>=0.34.0.dev0 in /usr/local/lib/python3.7/dist-packages (from numba->shap) (0.34.0)\n",
            "Requirement already satisfied: python-dateutil>=2.7.3 in /usr/local/lib/python3.7/dist-packages (from pandas->shap) (2.8.2)\n",
            "Requirement already satisfied: pytz>=2017.2 in /usr/local/lib/python3.7/dist-packages (from pandas->shap) (2018.9)\n",
            "Requirement already satisfied: six>=1.5 in /usr/local/lib/python3.7/dist-packages (from python-dateutil>=2.7.3->pandas->shap) (1.15.0)\n",
            "Requirement already satisfied: joblib>=0.11 in /usr/local/lib/python3.7/dist-packages (from scikit-learn->shap) (1.0.1)\n",
            "Building wheels for collected packages: shap\n",
            "  Building wheel for shap (setup.py) ... \u001b[?25l\u001b[?25hdone\n",
            "  Created wheel for shap: filename=shap-0.39.0-cp37-cp37m-linux_x86_64.whl size=491645 sha256=2c556a22a1c3d9566501e1cd0d5dd8c1db205e648784ba9794816d85ba82772d\n",
            "  Stored in directory: /root/.cache/pip/wheels/ca/25/8f/6ae5df62c32651cd719e972e738a8aaa4a87414c4d2b14c9c0\n",
            "Successfully built shap\n",
            "Installing collected packages: slicer, shap\n",
            "Successfully installed shap-0.39.0 slicer-0.0.7\n"
          ]
        }
      ]
    },
    {
      "cell_type": "code",
      "metadata": {
        "colab": {
          "base_uri": "https://localhost:8080/",
          "height": 346
        },
        "id": "yE6_hU22PRj_",
        "outputId": "867c1e24-12ce-4399-c7d0-3b93bbf08f8e"
      },
      "source": [
        "import shap  \n",
        "\n",
        "explainer = shap.TreeExplainer(model)\n",
        "\n",
        "shap_values = explainer.shap_values(X_test)\n",
        "\n",
        "\n",
        "shap.summary_plot(shap_values, X_test)"
      ],
      "execution_count": 38,
      "outputs": [
        {
          "output_type": "display_data",
          "data": {
            "image/png": "[encoded data removed]",
            "text/plain": [
              "<Figure size 576x367.2 with 2 Axes>"
            ]
          },
          "metadata": {
            "needs_background": "light"
          }
        }
      ]
    },
    {
      "cell_type": "code",
      "metadata": {
        "id": "nkut_Ju1sobC"
      },
      "source": [
        "X_train_clean = X_train.drop(columns=['WMA'])\n",
        "X_test_clean = X_test.drop(columns=['WMA'])"
      ],
      "execution_count": 45,
      "outputs": []
    },
    {
      "cell_type": "code",
      "metadata": {
        "colab": {
          "base_uri": "https://localhost:8080/"
        },
        "id": "MedXll9Ds6Ej",
        "outputId": "948ee7a6-6693-476d-c252-af82ab83ec59"
      },
      "source": [
        "model = CatBoostClassifier(depth=8,iterations=800,l2_leaf_reg=9,learning_rate=.1,verbose=False)\n",
        "history = model.fit(X_train_clean,y_train)\n",
        "pred = model.predict(X_test_clean)\n",
        "print(classification_report(y_test,pred))"
      ],
      "execution_count": 46,
      "outputs": [
        {
          "output_type": "stream",
          "name": "stdout",
          "text": [
            "              precision    recall  f1-score   support\n",
            "\n",
            "           0       0.78      0.84      0.81     12759\n",
            "           1       0.74      0.67      0.70      8910\n",
            "\n",
            "    accuracy                           0.77     21669\n",
            "   macro avg       0.76      0.75      0.76     21669\n",
            "weighted avg       0.77      0.77      0.76     21669\n",
            "\n"
          ]
        }
      ]
    },
    {
      "cell_type": "markdown",
      "metadata": {
        "id": "jjPtkoI4wwBF"
      },
      "source": [
        "There aren't any much difference from the original X_test's report so we will just use the old one"
      ]
    },
    {
      "cell_type": "markdown",
      "metadata": {
        "id": "nQKW1CXOamaq"
      },
      "source": [
        "## Evaluation on Unseen Values"
      ]
    },
    {
      "cell_type": "code",
      "metadata": {
        "colab": {
          "base_uri": "https://localhost:8080/"
        },
        "id": "14II0ClpJ8SY",
        "outputId": "5ebe8527-b289-4f3b-ff93-53b66ed81658"
      },
      "source": [
        "evaluation(model,X_valid,y_valid)"
      ],
      "execution_count": 73,
      "outputs": [
        {
          "output_type": "stream",
          "name": "stdout",
          "text": [
            "              precision    recall  f1-score   support\n",
            "\n",
            "           0       0.81      0.78      0.79     18228\n",
            "           1       0.70      0.73      0.71     12728\n",
            "\n",
            "    accuracy                           0.76     30956\n",
            "   macro avg       0.75      0.75      0.75     30956\n",
            "weighted avg       0.76      0.76      0.76     30956\n",
            "\n",
            "Precision avg : 0.760614471824147\n",
            "Recall avg : 0.7583344101305078\n"
          ]
        }
      ]
    },
    {
      "cell_type": "markdown",
      "metadata": {
        "id": "8mwZ1Y8Bf1yA"
      },
      "source": [
        "We get the final result of about 76% where we focus more on the precision of each class."
      ]
    }
  ]
}