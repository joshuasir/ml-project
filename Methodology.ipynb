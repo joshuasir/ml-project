{
  "nbformat": 4,
  "nbformat_minor": 0,
  "metadata": {
    "colab": {
      "name": "Methodology.ipynb",
      "provenance": [],
      "collapsed_sections": []
    },
    "kernelspec": {
      "name": "python3",
      "display_name": "Python 3"
    },
    "language_info": {
      "name": "python"
    },
    "accelerator": "GPU"
  },
  "cells": [
    {
      "cell_type": "code",
      "metadata": {
        "id": "V1wLn5vPxk-k"
      },
      "source": [
        "import pandas as pd\n",
        "from sklearn.dummy import DummyClassifier\n",
        "from sklearn.model_selection import cross_validate\n",
        "from sklearn.ensemble import RandomForestClassifier\n",
        "from sklearn.linear_model import LogisticRegression\n",
        "from sklearn.tree import DecisionTreeClassifier\n",
        "from xgboost import XGBClassifier\n",
        "from catboost import CatBoostClassifier\n",
        "from lightgbm import LGBMClassifier\n",
        "from sklearn.metrics import classification_report,make_scorer,recall_score\n",
        "from sklearn.model_selection import train_test_split\n",
        "from sklearn import metrics\n",
        "from sklearn.dummy import DummyClassifier\n"
      ],
      "execution_count": 69,
      "outputs": []
    },
    {
      "cell_type": "code",
      "metadata": {
        "id": "ppCdaxlDzRDW"
      },
      "source": [
        "df = pd.read_csv('https://raw.githubusercontent.com/joshuasir/datasets/main/stock-market-train-clean.csv')\n",
        "df_test = pd.read_csv('https://raw.githubusercontent.com/joshuasir/datasets/main/stock-market-test-clean.csv')"
      ],
      "execution_count": 70,
      "outputs": []
    },
    {
      "cell_type": "code",
      "metadata": {
        "id": "YbehtcOFuJR2"
      },
      "source": [
        "X = df.copy()\n",
        "# X = df.drop(columns=['Date','Adj Close','CloseUSD','Volume','RSI14','Open','Year'],axis=1).copy()\n",
        "y = X.pop('Target')\n",
        "X_valid = df_test.copy()\n",
        "y_valid = X_valid.pop('Target')\n",
        "\n",
        "X_train,X_test,y_train,y_test = train_test_split(X,y,test_size=0.3,stratify=y,random_state=42)"
      ],
      "execution_count": 71,
      "outputs": []
    },
    {
      "cell_type": "code",
      "metadata": {
        "id": "yN_bJe2icYbm",
        "colab": {
          "base_uri": "https://localhost:8080/"
        },
        "outputId": "0fe794bf-cba1-408e-f925-00ead962f7ba"
      },
      "source": [
        "y.value_counts()"
      ],
      "execution_count": 72,
      "outputs": [
        {
          "output_type": "execute_result",
          "data": {
            "text/plain": [
              "0    68651\n",
              "1    14020\n",
              "Name: Target, dtype: int64"
            ]
          },
          "metadata": {
            "tags": []
          },
          "execution_count": 72
        }
      ]
    },
    {
      "cell_type": "markdown",
      "metadata": {
        "id": "ssSnyH_m8Oy3"
      },
      "source": [
        "we will be using cross validation and recall since our data is unbalance"
      ]
    },
    {
      "cell_type": "markdown",
      "metadata": {
        "id": "M0xJXSgk-6Dw"
      },
      "source": [
        "## Baseline Model"
      ]
    },
    {
      "cell_type": "code",
      "metadata": {
        "id": "MBXyvg-muUZH",
        "colab": {
          "base_uri": "https://localhost:8080/"
        },
        "outputId": "76795f34-12e9-4a76-d6bf-1170ffb785a2"
      },
      "source": [
        "model = DummyClassifier(strategy='stratified')\n",
        "\n",
        "\n",
        "scoring = {'Accuracy': 'accuracy',\n",
        "           'Precision': 'precision_macro',\n",
        "           'Recall': 'recall_macro',\n",
        "           'F1':'f1_macro',\n",
        "    }\n",
        "\n",
        "\n",
        "scores = cross_validate(model, X_train, y_train,\n",
        "                              cv=5,\n",
        "                              scoring=scoring)\n",
        "\n",
        "print(\"Precision scores:\\n\", scores['test_Precision'].mean())\n",
        "print(\"Recall scores:\\n\", scores['test_Recall'].mean())\n",
        "print(\"F1 scores:\\n\", scores['test_F1'].mean())\n",
        "\n",
        "# print('Dummy Classifier :', model.score(y_test,pred))\n",
        "# print(classification_report(y_test,pred))"
      ],
      "execution_count": 73,
      "outputs": [
        {
          "output_type": "stream",
          "text": [
            "Precision scores:\n",
            " 0.501115055190106\n",
            "Recall scores:\n",
            " 0.501114973732381\n",
            "F1 scores:\n",
            " 0.5011050082000984\n"
          ],
          "name": "stdout"
        }
      ]
    },
    {
      "cell_type": "markdown",
      "metadata": {
        "id": "6xvYQFABA-Ov"
      },
      "source": [
        "## Comparing Model"
      ]
    },
    {
      "cell_type": "code",
      "metadata": {
        "id": "EA1xkmoc8jLs"
      },
      "source": [
        "\n",
        "def train(classifier,name='',graph=False):\n",
        "    \n",
        "    scoring = {'Accuracy': 'accuracy',\n",
        "           'Precision': 'precision_macro',\n",
        "           'Recall': 'recall_macro',\n",
        "           'F1':'f1_macro',\n",
        "           'ROC_AUC'  : 'roc_auc'\n",
        "    }\n",
        "    score_dict = cross_validate(classifier, X_test, y_test,\n",
        "                              cv=5,\n",
        "                              scoring=scoring)\n",
        "    \n",
        "    scores = pd.DataFrame(columns=['Model','Precision','Recall','F1','ROC AUC'])\n",
        "    scores = scores.append(pd.Series({ \n",
        "                                      'Model' : name,\n",
        "                                      # 'Accuracy' : score_dict['test_Accuracy'].mean(),\n",
        "                                      'Precision' : score_dict['test_Precision'].mean(),\n",
        "                                      'Recall' : score_dict['test_Recall'].mean(),\n",
        "                                      'F1' : score_dict['test_F1'].mean(),\n",
        "                                      'ROC AUC' : score_dict['test_ROC_AUC'].mean()\n",
        "    }),ignore_index=True)\n",
        " \n",
        "    return scores"
      ],
      "execution_count": 74,
      "outputs": []
    },
    {
      "cell_type": "code",
      "metadata": {
        "id": "6LcwOwbOuY1E"
      },
      "source": [
        "from sklearn.metrics import classification_report, accuracy_score, make_scorer\n",
        "\n",
        "\n",
        "models =  { \"Decision Tree\" : DecisionTreeClassifier(),\n",
        "            \"Random Forest\" : RandomForestClassifier(),\n",
        "            \"XGBoost\" : XGBClassifier(), \n",
        "            \"LogisticRegression\" : LogisticRegression(max_iter=1200), \n",
        "            \"CatBoost\" :CatBoostClassifier(verbose=False) ,\n",
        "            'LGBM' : LGBMClassifier()\n",
        "            \n",
        "            }\n",
        "\n",
        "scores = pd.DataFrame(columns=['Model','Precision','Recall','F1','ROC AUC'])\n",
        "# probability = {}\n",
        "\n",
        "for model in models:\n",
        "  scores = scores.append(train(models[model],name=model))"
      ],
      "execution_count": null,
      "outputs": []
    },
    {
      "cell_type": "code",
      "metadata": {
        "colab": {
          "base_uri": "https://localhost:8080/",
          "height": 235
        },
        "id": "LkftU3aQ0D-4",
        "outputId": "a49fb626-43b4-4a20-9270-1cfbdb7b8ac1"
      },
      "source": [
        "scores.sort_values('Recall',ascending=False).reset_index(drop=True)"
      ],
      "execution_count": 76,
      "outputs": [
        {
          "output_type": "execute_result",
          "data": {
            "text/html": [
              "<div>\n",
              "<style scoped>\n",
              "    .dataframe tbody tr th:only-of-type {\n",
              "        vertical-align: middle;\n",
              "    }\n",
              "\n",
              "    .dataframe tbody tr th {\n",
              "        vertical-align: top;\n",
              "    }\n",
              "\n",
              "    .dataframe thead th {\n",
              "        text-align: right;\n",
              "    }\n",
              "</style>\n",
              "<table border=\"1\" class=\"dataframe\">\n",
              "  <thead>\n",
              "    <tr style=\"text-align: right;\">\n",
              "      <th></th>\n",
              "      <th>Model</th>\n",
              "      <th>Precision</th>\n",
              "      <th>Recall</th>\n",
              "      <th>F1</th>\n",
              "      <th>ROC AUC</th>\n",
              "    </tr>\n",
              "  </thead>\n",
              "  <tbody>\n",
              "    <tr>\n",
              "      <th>0</th>\n",
              "      <td>LogisticRegression</td>\n",
              "      <td>0.776489</td>\n",
              "      <td>0.780509</td>\n",
              "      <td>0.778000</td>\n",
              "      <td>0.928984</td>\n",
              "    </tr>\n",
              "    <tr>\n",
              "      <th>1</th>\n",
              "      <td>LGBM</td>\n",
              "      <td>0.820723</td>\n",
              "      <td>0.750410</td>\n",
              "      <td>0.778058</td>\n",
              "      <td>0.937964</td>\n",
              "    </tr>\n",
              "    <tr>\n",
              "      <th>2</th>\n",
              "      <td>CatBoost</td>\n",
              "      <td>0.810967</td>\n",
              "      <td>0.749652</td>\n",
              "      <td>0.774454</td>\n",
              "      <td>0.936750</td>\n",
              "    </tr>\n",
              "    <tr>\n",
              "      <th>3</th>\n",
              "      <td>Decision Tree</td>\n",
              "      <td>0.745111</td>\n",
              "      <td>0.746629</td>\n",
              "      <td>0.745793</td>\n",
              "      <td>0.746629</td>\n",
              "    </tr>\n",
              "    <tr>\n",
              "      <th>4</th>\n",
              "      <td>XGBoost</td>\n",
              "      <td>0.826467</td>\n",
              "      <td>0.744556</td>\n",
              "      <td>0.775617</td>\n",
              "      <td>0.937831</td>\n",
              "    </tr>\n",
              "    <tr>\n",
              "      <th>5</th>\n",
              "      <td>Random Forest</td>\n",
              "      <td>0.782515</td>\n",
              "      <td>0.740514</td>\n",
              "      <td>0.758434</td>\n",
              "      <td>0.929760</td>\n",
              "    </tr>\n",
              "  </tbody>\n",
              "</table>\n",
              "</div>"
            ],
            "text/plain": [
              "                Model  Precision    Recall        F1   ROC AUC\n",
              "0  LogisticRegression   0.776489  0.780509  0.778000  0.928984\n",
              "1                LGBM   0.820723  0.750410  0.778058  0.937964\n",
              "2            CatBoost   0.810967  0.749652  0.774454  0.936750\n",
              "3       Decision Tree   0.745111  0.746629  0.745793  0.746629\n",
              "4             XGBoost   0.826467  0.744556  0.775617  0.937831\n",
              "5       Random Forest   0.782515  0.740514  0.758434  0.929760"
            ]
          },
          "metadata": {
            "tags": []
          },
          "execution_count": 76
        }
      ]
    },
    {
      "cell_type": "markdown",
      "metadata": {
        "id": "lbrTeaX-_SZd"
      },
      "source": [
        "## Model Train"
      ]
    },
    {
      "cell_type": "code",
      "metadata": {
        "id": "7bQzwp0w0a-f"
      },
      "source": [
        "dict_score = cross_validate(LogisticRegression(max_iter=2200), X, y,\n",
        "                              cv=15,\n",
        "                              scoring='recall_macro')"
      ],
      "execution_count": 77,
      "outputs": []
    },
    {
      "cell_type": "code",
      "metadata": {
        "id": "D-kvw0hL_2FY",
        "colab": {
          "base_uri": "https://localhost:8080/"
        },
        "outputId": "a3fc13bd-9df2-4fda-bb2e-1f6921ca3fdb"
      },
      "source": [
        "dict_score['test_score'].mean()"
      ],
      "execution_count": 78,
      "outputs": [
        {
          "output_type": "execute_result",
          "data": {
            "text/plain": [
              "0.7283244077244543"
            ]
          },
          "metadata": {
            "tags": []
          },
          "execution_count": 78
        }
      ]
    },
    {
      "cell_type": "code",
      "metadata": {
        "colab": {
          "base_uri": "https://localhost:8080/"
        },
        "id": "A2NcNL_sAR_Q",
        "outputId": "032185a0-dc06-47c9-ed4c-e671839ea5a1"
      },
      "source": [
        "model = LogisticRegression(max_iter=1200)\n",
        "model.fit(X_train,y_train)\n",
        "pred = model.predict(X_test)\n",
        "print(classification_report(y_test,pred))"
      ],
      "execution_count": 84,
      "outputs": [
        {
          "output_type": "stream",
          "text": [
            "              precision    recall  f1-score   support\n",
            "\n",
            "           0       0.93      0.92      0.92     20596\n",
            "           1       0.63      0.64      0.64      4206\n",
            "\n",
            "    accuracy                           0.88     24802\n",
            "   macro avg       0.78      0.78      0.78     24802\n",
            "weighted avg       0.88      0.88      0.88     24802\n",
            "\n"
          ],
          "name": "stdout"
        }
      ]
    },
    {
      "cell_type": "markdown",
      "metadata": {
        "id": "ZsY7hStwIUi5"
      },
      "source": [
        "We will try moving the threshold as we didn't caught any of the 1 category"
      ]
    },
    {
      "cell_type": "code",
      "metadata": {
        "colab": {
          "base_uri": "https://localhost:8080/",
          "height": 296
        },
        "id": "bla6WFleHGQa",
        "outputId": "9eb8a5be-c1a5-41d7-808a-d12b116827a8"
      },
      "source": [
        "from sklearn import metrics\n",
        "metrics.plot_roc_curve(model, X_test, y_test)"
      ],
      "execution_count": 85,
      "outputs": [
        {
          "output_type": "execute_result",
          "data": {
            "text/plain": [
              "<sklearn.metrics._plot.roc_curve.RocCurveDisplay at 0x7fb8ac5eb4d0>"
            ]
          },
          "metadata": {
            "tags": []
          },
          "execution_count": 85
        },
        {
          "output_type": "display_data",
          "data": {
            "image/png": "[encoded data removed]",
            "text/plain": [
              "<Figure size 432x288 with 1 Axes>"
            ]
          },
          "metadata": {
            "tags": [],
            "needs_background": "light"
          }
        }
      ]
    },
    {
      "cell_type": "code",
      "metadata": {
        "id": "jAN9mOAnJTW2"
      },
      "source": [
        "score = model.predict_proba(X_test)[:, 1]\n",
        "\n",
        "result = []\n",
        "threshold = 0.04\n",
        "for i in score:\n",
        "    result.append(i > threshold)\n"
      ],
      "execution_count": 162,
      "outputs": []
    },
    {
      "cell_type": "code",
      "metadata": {
        "colab": {
          "base_uri": "https://localhost:8080/"
        },
        "id": "33ASO5nWJcF9",
        "outputId": "f4514694-12d6-4f3c-cf1c-5b966871c024"
      },
      "source": [
        "print(classification_report(y_test, result, labels=[0,1], zero_division=1))"
      ],
      "execution_count": 163,
      "outputs": [
        {
          "output_type": "stream",
          "text": [
            "              precision    recall  f1-score   support\n",
            "\n",
            "           0       0.99      0.70      0.82     20596\n",
            "           1       0.39      0.97      0.56      4206\n",
            "\n",
            "    accuracy                           0.74     24802\n",
            "   macro avg       0.69      0.83      0.69     24802\n",
            "weighted avg       0.89      0.74      0.77     24802\n",
            "\n"
          ],
          "name": "stdout"
        }
      ]
    },
    {
      "cell_type": "code",
      "metadata": {
        "id": "14II0ClpJ8SY"
      },
      "source": [
        "score = model.predict_proba(X_valid)[:, 1]\n",
        "\n",
        "result = []\n",
        "for i in score:\n",
        "    result.append(i > threshold)"
      ],
      "execution_count": 164,
      "outputs": []
    },
    {
      "cell_type": "code",
      "metadata": {
        "colab": {
          "base_uri": "https://localhost:8080/"
        },
        "id": "QL6jiiiHWS4B",
        "outputId": "85db53f2-9699-476b-8d45-bdae25251a88"
      },
      "source": [
        "print(classification_report(y_valid, result, labels=[0,1], zero_division=1))"
      ],
      "execution_count": 165,
      "outputs": [
        {
          "output_type": "stream",
          "text": [
            "              precision    recall  f1-score   support\n",
            "\n",
            "           0       0.82      0.98      0.89     14391\n",
            "           1       0.89      0.48      0.62      5758\n",
            "\n",
            "    accuracy                           0.83     20149\n",
            "   macro avg       0.86      0.73      0.76     20149\n",
            "weighted avg       0.84      0.83      0.82     20149\n",
            "\n"
          ],
          "name": "stdout"
        }
      ]
    },
    {
      "cell_type": "code",
      "metadata": {
        "id": "Ncrtz3WmWUtf"
      },
      "source": [
        ""
      ],
      "execution_count": null,
      "outputs": []
    }
  ]
}