{
  "nbformat": 4,
  "nbformat_minor": 0,
  "metadata": {
    "colab": {
      "name": "Preprocessing.ipynb",
      "provenance": [],
      "collapsed_sections": []
    },
    "kernelspec": {
      "name": "python3",
      "display_name": "Python 3"
    },
    "language_info": {
      "name": "python"
    },
    "accelerator": "GPU"
  },
  "cells": [
    {
      "cell_type": "code",
      "metadata": {
        "id": "3PLlesgrG9NX"
      },
      "source": [
        "import pandas as pd\n",
        "import numpy as np\n",
        "\n",
        "\n",
        "df = pd.read_csv('https://raw.githubusercontent.com/joshuasir/datasets/main/stock-market-train.csv')\n",
        "\n",
        "df_test = pd.read_csv('https://raw.githubusercontent.com/joshuasir/datasets/main/stock-market-test.csv')"
      ],
      "execution_count": 62,
      "outputs": []
    },
    {
      "cell_type": "code",
      "metadata": {
        "id": "5nTJ42ctgWEU"
      },
      "source": [
        "df.dropna(axis=0,inplace=True)\n",
        "df_test.dropna(axis=0,inplace=True)"
      ],
      "execution_count": 63,
      "outputs": []
    },
    {
      "cell_type": "code",
      "metadata": {
        "id": "lRUWFTDFklLn"
      },
      "source": [
        "df['Month'] = pd.to_datetime(df['Date']).dt.month \n",
        "df['Year'] = pd.to_datetime(df['Date']).dt.year\n",
        "df['Day'] = pd.to_datetime(df['Date']).dt.day\n",
        "\n",
        "df_test['Month'] = pd.to_datetime(df_test['Date']).dt.month \n",
        "df_test['Year'] = pd.to_datetime(df_test['Date']).dt.year\n",
        "df_test['Day'] = pd.to_datetime(df_test['Date']).dt.day"
      ],
      "execution_count": 64,
      "outputs": []
    },
    {
      "cell_type": "code",
      "metadata": {
        "id": "w3iI2zDH4Tof"
      },
      "source": [
        "def calc_SMA(closing,lookback=50):\n",
        "  SMA = []\n",
        "  MA = [closing[:lookback]]\n",
        "  for price in closing[lookback:]:\n",
        "    MA.pop(0)\n",
        "    MA.append(price)\n",
        "    SMA.append(sum(MA)/len(MA))\n",
        "  return pd.Series(SMA,name='SMA').dropna()\n",
        "\n",
        "def calc_EMA(closing,lookback=50,smoothing=2):\n",
        "  EMA = [sum(closing[:lookback])/lookback]\n",
        "  for price in closing[lookback:]:\n",
        "    EMA.append((price * (smoothing / (1 + lookback))) + EMA[-1] * (1 - (smoothing / (1 + lookback))))\n",
        "  return pd.Series(EMA,name='EMA').dropna()\n",
        "\n",
        "def calc_MACD(EMA_12,EMA_26):\n",
        "  MACD = []\n",
        "  for first,second in zip(EMA_12,EMA_26):\n",
        "    MACD.append(first-second)\n",
        "  return pd.Series(MACD,name='MACD').dropna()\n",
        "\n",
        "def calc_RSI(closing, lookback=14):\n",
        "    ret = closing.diff()\n",
        "    up = []\n",
        "    down = []\n",
        "    for diff in ret:\n",
        "        if diff < 0:\n",
        "            up.append(0)\n",
        "            down.append(diff)\n",
        "        else:\n",
        "            up.append(diff)\n",
        "            down.append(0)\n",
        "\n",
        "    up_series = pd.Series(up)\n",
        "    down_series = pd.Series(down).abs()\n",
        "    up_ewm = up_series.ewm(com = lookback - 1, adjust = False).mean()\n",
        "    down_ewm = down_series.ewm(com = lookback - 1, adjust = False).mean()\n",
        "    RS = up_ewm/down_ewm\n",
        "    RSI = 100 - (100 / (1 + RS))\n",
        "    return RSI.rename({0:'RSI'}).dropna()\n",
        "\n",
        "def calc_OBV(closing,volume,lookback=50):\n",
        "  OBV = [0]\n",
        "  for i in range(lookback,len(closing)):\n",
        "    OBV.append((OBV[-1]-volume[i-1])*(closing[i-1] < closing[i-2])+(OBV[-1]+volume[i-1])*(closing[i-1] > closing[i-2]))\n",
        "\n",
        "  return pd.Series(OBV[1:],name='OBV').dropna()\n",
        "\n",
        "def calc_target(closing,open,lookback=50):\n",
        "  target = []\n",
        "  for open,close in zip(open,closing):\n",
        "    target.append(int(close > open))\n",
        "  return pd.Series(target,name='target').dropna()\n",
        "\n",
        "def add_indicators(df,days=50):\n",
        "  new_df = pd.DataFrame()\n",
        "  for index in df.Index.unique():\n",
        "    df_index = df[df['Index']==index].reset_index(drop=True).copy()\n",
        "    closing = df_index['Open']\n",
        "    Indicators = pd.DataFrame({\n",
        "         'Date' : df_index['Date'][50:].reset_index(drop=True),\n",
        "         'SMA' : calc_SMA(closing,days),\n",
        "         'EMA' : calc_EMA(closing,lookback = days),\n",
        "         'MACD' : calc_MACD(calc_EMA(closing[38:],lookback=12),calc_EMA(closing[24:],lookback=26)),\n",
        "         'RSI' : calc_RSI(closing[36:]),\n",
        "         'OBV' : calc_OBV(closing = closing,volume = df_index['Volume']),\n",
        "         'Target' : calc_target(closing = df.Close,open = closing,lookback = days)\n",
        "         })\n",
        "    df_index = pd.merge(df_index[53:-1].reset_index(drop=True),Indicators[3:-1].reset_index(drop=True),on='Date')\n",
        "    new_df = new_df.append(df_index)\n",
        "  return new_df"
      ],
      "execution_count": 65,
      "outputs": []
    },
    {
      "cell_type": "code",
      "metadata": {
        "id": "2CCSmZi0HVre"
      },
      "source": [
        "df = df.sort_values('Date').reset_index(drop=True)\n",
        "df_test = df_test.sort_values('Date').reset_index(drop=True)"
      ],
      "execution_count": 66,
      "outputs": []
    },
    {
      "cell_type": "code",
      "metadata": {
        "colab": {
          "base_uri": "https://localhost:8080/"
        },
        "id": "8HDtw9bHtJcm",
        "outputId": "166d2908-54c6-477a-bfa8-cd1fd8d09f50"
      },
      "source": [
        "df.shape"
      ],
      "execution_count": 67,
      "outputs": [
        {
          "output_type": "execute_result",
          "data": {
            "text/plain": [
              "(83373, 12)"
            ]
          },
          "metadata": {
            "tags": []
          },
          "execution_count": 67
        }
      ]
    },
    {
      "cell_type": "code",
      "metadata": {
        "id": "VIORtKQhL1BI"
      },
      "source": [
        "df = add_indicators(df,days=50)\n",
        "df_test = add_indicators(df_test,days=50)"
      ],
      "execution_count": 68,
      "outputs": []
    },
    {
      "cell_type": "code",
      "metadata": {
        "id": "TWM4vix8RktS",
        "colab": {
          "base_uri": "https://localhost:8080/"
        },
        "outputId": "046638ce-d344-4d89-c7a3-5768c2125ac8"
      },
      "source": [
        "df.shape"
      ],
      "execution_count": 309,
      "outputs": [
        {
          "output_type": "execute_result",
          "data": {
            "text/plain": [
              "(82671, 18)"
            ]
          },
          "metadata": {
            "tags": []
          },
          "execution_count": 309
        }
      ]
    },
    {
      "cell_type": "code",
      "metadata": {
        "id": "uJEKBD-cln7r"
      },
      "source": [
        "df_selected = df[['Target','MACD','SMA','EMA','Month','RSI','Day','Index']].copy()\n",
        "df_test_selected = df_test[['Target','MACD','SMA','EMA','RSI','Month','Day','Index']].copy()"
      ],
      "execution_count": 313,
      "outputs": []
    },
    {
      "cell_type": "code",
      "metadata": {
        "id": "bUY-crV-lEdy",
        "colab": {
          "base_uri": "https://localhost:8080/",
          "height": 204
        },
        "outputId": "798febfd-2174-4f5c-d469-ce9821393ae2"
      },
      "source": [
        "from sklearn.compose import ColumnTransformer\n",
        "from sklearn.pipeline import Pipeline\n",
        "from sklearn.preprocessing import OneHotEncoder\n",
        "\n",
        "\n",
        "OH_encoder = OneHotEncoder(handle_unknown='ignore', sparse=False)\n",
        "OH_cols = pd.DataFrame(OH_encoder.fit_transform(df_selected[['Index']]))\n",
        "\n",
        "OH_cols.index = df_selected.index\n",
        "\n",
        "num_df_selected = df_selected.drop(['Index'], axis=1)\n",
        "\n",
        "OH_df_selected = pd.concat([num_df_selected, OH_cols], axis=1)\n",
        "\n",
        "\n",
        "\n",
        "OH_test_cols = pd.DataFrame(OH_encoder.fit_transform(df_test_selected[['Index']]))\n",
        "\n",
        "OH_test_cols.index = df_test_selected.index\n",
        "\n",
        "num_test_df_selected = df_test_selected.drop(['Index'], axis=1)\n",
        "\n",
        "OH_test_df_selected = pd.concat([num_test_df_selected, OH_test_cols], axis=1)\n",
        "\n",
        "\n",
        "OH_df_selected.head()"
      ],
      "execution_count": 314,
      "outputs": [
        {
          "output_type": "execute_result",
          "data": {
            "text/html": [
              "<div>\n",
              "<style scoped>\n",
              "    .dataframe tbody tr th:only-of-type {\n",
              "        vertical-align: middle;\n",
              "    }\n",
              "\n",
              "    .dataframe tbody tr th {\n",
              "        vertical-align: top;\n",
              "    }\n",
              "\n",
              "    .dataframe thead th {\n",
              "        text-align: right;\n",
              "    }\n",
              "</style>\n",
              "<table border=\"1\" class=\"dataframe\">\n",
              "  <thead>\n",
              "    <tr style=\"text-align: right;\">\n",
              "      <th></th>\n",
              "      <th>Target</th>\n",
              "      <th>MACD</th>\n",
              "      <th>SMA</th>\n",
              "      <th>EMA</th>\n",
              "      <th>Month</th>\n",
              "      <th>RSI</th>\n",
              "      <th>Day</th>\n",
              "      <th>0</th>\n",
              "      <th>1</th>\n",
              "      <th>2</th>\n",
              "      <th>3</th>\n",
              "      <th>4</th>\n",
              "      <th>5</th>\n",
              "      <th>6</th>\n",
              "      <th>7</th>\n",
              "      <th>8</th>\n",
              "      <th>9</th>\n",
              "      <th>10</th>\n",
              "      <th>11</th>\n",
              "      <th>12</th>\n",
              "    </tr>\n",
              "  </thead>\n",
              "  <tbody>\n",
              "    <tr>\n",
              "      <th>0</th>\n",
              "      <td>0</td>\n",
              "      <td>-22.671634</td>\n",
              "      <td>1157.069946</td>\n",
              "      <td>1227.506745</td>\n",
              "      <td>3</td>\n",
              "      <td>74.854315</td>\n",
              "      <td>25</td>\n",
              "      <td>0.0</td>\n",
              "      <td>0.0</td>\n",
              "      <td>0.0</td>\n",
              "      <td>0.0</td>\n",
              "      <td>0.0</td>\n",
              "      <td>0.0</td>\n",
              "      <td>0.0</td>\n",
              "      <td>0.0</td>\n",
              "      <td>1.0</td>\n",
              "      <td>0.0</td>\n",
              "      <td>0.0</td>\n",
              "      <td>0.0</td>\n",
              "      <td>0.0</td>\n",
              "    </tr>\n",
              "    <tr>\n",
              "      <th>1</th>\n",
              "      <td>0</td>\n",
              "      <td>-22.706738</td>\n",
              "      <td>1162.770020</td>\n",
              "      <td>1224.744517</td>\n",
              "      <td>3</td>\n",
              "      <td>58.929857</td>\n",
              "      <td>26</td>\n",
              "      <td>0.0</td>\n",
              "      <td>0.0</td>\n",
              "      <td>0.0</td>\n",
              "      <td>0.0</td>\n",
              "      <td>0.0</td>\n",
              "      <td>0.0</td>\n",
              "      <td>0.0</td>\n",
              "      <td>0.0</td>\n",
              "      <td>1.0</td>\n",
              "      <td>0.0</td>\n",
              "      <td>0.0</td>\n",
              "      <td>0.0</td>\n",
              "      <td>0.0</td>\n",
              "    </tr>\n",
              "    <tr>\n",
              "      <th>2</th>\n",
              "      <td>0</td>\n",
              "      <td>-22.020768</td>\n",
              "      <td>1188.790039</td>\n",
              "      <td>1222.314145</td>\n",
              "      <td>3</td>\n",
              "      <td>26.062675</td>\n",
              "      <td>29</td>\n",
              "      <td>0.0</td>\n",
              "      <td>0.0</td>\n",
              "      <td>0.0</td>\n",
              "      <td>0.0</td>\n",
              "      <td>0.0</td>\n",
              "      <td>0.0</td>\n",
              "      <td>0.0</td>\n",
              "      <td>0.0</td>\n",
              "      <td>1.0</td>\n",
              "      <td>0.0</td>\n",
              "      <td>0.0</td>\n",
              "      <td>0.0</td>\n",
              "      <td>0.0</td>\n",
              "    </tr>\n",
              "    <tr>\n",
              "      <th>3</th>\n",
              "      <td>0</td>\n",
              "      <td>-19.156707</td>\n",
              "      <td>1139.800049</td>\n",
              "      <td>1220.999474</td>\n",
              "      <td>3</td>\n",
              "      <td>18.563662</td>\n",
              "      <td>30</td>\n",
              "      <td>0.0</td>\n",
              "      <td>0.0</td>\n",
              "      <td>0.0</td>\n",
              "      <td>0.0</td>\n",
              "      <td>0.0</td>\n",
              "      <td>0.0</td>\n",
              "      <td>0.0</td>\n",
              "      <td>0.0</td>\n",
              "      <td>1.0</td>\n",
              "      <td>0.0</td>\n",
              "      <td>0.0</td>\n",
              "      <td>0.0</td>\n",
              "      <td>0.0</td>\n",
              "    </tr>\n",
              "    <tr>\n",
              "      <th>4</th>\n",
              "      <td>0</td>\n",
              "      <td>-20.602509</td>\n",
              "      <td>1132.770020</td>\n",
              "      <td>1217.815183</td>\n",
              "      <td>3</td>\n",
              "      <td>16.491117</td>\n",
              "      <td>31</td>\n",
              "      <td>0.0</td>\n",
              "      <td>0.0</td>\n",
              "      <td>0.0</td>\n",
              "      <td>0.0</td>\n",
              "      <td>0.0</td>\n",
              "      <td>0.0</td>\n",
              "      <td>0.0</td>\n",
              "      <td>0.0</td>\n",
              "      <td>1.0</td>\n",
              "      <td>0.0</td>\n",
              "      <td>0.0</td>\n",
              "      <td>0.0</td>\n",
              "      <td>0.0</td>\n",
              "    </tr>\n",
              "  </tbody>\n",
              "</table>\n",
              "</div>"
            ],
            "text/plain": [
              "   Target       MACD          SMA          EMA  Month  ...    8    9   10   11   12\n",
              "0       0 -22.671634  1157.069946  1227.506745      3  ...  1.0  0.0  0.0  0.0  0.0\n",
              "1       0 -22.706738  1162.770020  1224.744517      3  ...  1.0  0.0  0.0  0.0  0.0\n",
              "2       0 -22.020768  1188.790039  1222.314145      3  ...  1.0  0.0  0.0  0.0  0.0\n",
              "3       0 -19.156707  1139.800049  1220.999474      3  ...  1.0  0.0  0.0  0.0  0.0\n",
              "4       0 -20.602509  1132.770020  1217.815183      3  ...  1.0  0.0  0.0  0.0  0.0\n",
              "\n",
              "[5 rows x 20 columns]"
            ]
          },
          "metadata": {
            "tags": []
          },
          "execution_count": 314
        }
      ]
    },
    {
      "cell_type": "code",
      "metadata": {
        "id": "O5l1wOU2l0uv"
      },
      "source": [
        "OH_df_selected.to_csv('stock-market-train-clean.csv',index=False)\n",
        "OH_test_df_selected.to_csv('stock-market-test-clean.csv',index=False)"
      ],
      "execution_count": 315,
      "outputs": []
    }
  ]
}