{
  "nbformat": 4,
  "nbformat_minor": 0,
  "metadata": {
    "colab": {
      "name": "Preprocessing.ipynb",
      "provenance": [],
      "collapsed_sections": []
    },
    "kernelspec": {
      "display_name": "Python 3",
      "name": "python3"
    },
    "language_info": {
      "name": "python"
    }
  },
  "cells": [
    {
      "cell_type": "markdown",
      "metadata": {
        "id": "0RhYrhxa2UHB"
      },
      "source": [
        "We will use finta library to help us with our indicator features."
      ]
    },
    {
      "cell_type": "code",
      "metadata": {
        "colab": {
          "base_uri": "https://localhost:8080/"
        },
        "id": "rUIOnDBNYMfU",
        "outputId": "717c5bac-5a4a-497a-b1b9-8a7a4caa777a"
      },
      "source": [
        "pip install finta"
      ],
      "execution_count": null,
      "outputs": [
        {
          "output_type": "stream",
          "name": "stdout",
          "text": [
            "Requirement already satisfied: finta in /usr/local/lib/python3.7/dist-packages (1.3)\n",
            "Requirement already satisfied: numpy in /usr/local/lib/python3.7/dist-packages (from finta) (1.19.5)\n",
            "Requirement already satisfied: pandas in /usr/local/lib/python3.7/dist-packages (from finta) (1.1.5)\n",
            "Requirement already satisfied: python-dateutil>=2.7.3 in /usr/local/lib/python3.7/dist-packages (from pandas->finta) (2.8.2)\n",
            "Requirement already satisfied: pytz>=2017.2 in /usr/local/lib/python3.7/dist-packages (from pandas->finta) (2018.9)\n",
            "Requirement already satisfied: six>=1.5 in /usr/local/lib/python3.7/dist-packages (from python-dateutil>=2.7.3->pandas->finta) (1.15.0)\n"
          ]
        }
      ]
    },
    {
      "cell_type": "code",
      "metadata": {
        "id": "3PLlesgrG9NX"
      },
      "source": [
        "import pandas as pd\n",
        "import numpy as np\n",
        "from finta import TA\n",
        "\n",
        "train_file = 'https://raw.githubusercontent.com/joshuasir/ml-project/main/datasets-stock-exchange/stock-market-train.csv'\n",
        "test_file = 'https://raw.githubusercontent.com/joshuasir/ml-project/main/datasets-stock-exchange/stock-market-test.csv'\n",
        "\n",
        "\n",
        "\n",
        "df = pd.read_csv(train_file)\n",
        "\n",
        "df_test = pd.read_csv(test_file)"
      ],
      "execution_count": null,
      "outputs": []
    },
    {
      "cell_type": "code",
      "metadata": {
        "id": "hXeodn4ExaOw"
      },
      "source": [
        "df['Date'] = pd.to_datetime(df['Date'])"
      ],
      "execution_count": null,
      "outputs": []
    },
    {
      "cell_type": "code",
      "metadata": {
        "colab": {
          "base_uri": "https://localhost:8080/",
          "height": 419
        },
        "id": "hFoqye6Uv314",
        "outputId": "8a2db6f4-f4e1-437a-c4af-03047ebf15f6"
      },
      "source": [
        "df.sort_values('Date')"
      ],
      "execution_count": null,
      "outputs": [
        {
          "output_type": "execute_result",
          "data": {
            "text/html": [
              "<div>\n",
              "<style scoped>\n",
              "    .dataframe tbody tr th:only-of-type {\n",
              "        vertical-align: middle;\n",
              "    }\n",
              "\n",
              "    .dataframe tbody tr th {\n",
              "        vertical-align: top;\n",
              "    }\n",
              "\n",
              "    .dataframe thead th {\n",
              "        text-align: right;\n",
              "    }\n",
              "</style>\n",
              "<table border=\"1\" class=\"dataframe\">\n",
              "  <thead>\n",
              "    <tr style=\"text-align: right;\">\n",
              "      <th></th>\n",
              "      <th>Index</th>\n",
              "      <th>Date</th>\n",
              "      <th>Open</th>\n",
              "      <th>High</th>\n",
              "      <th>Low</th>\n",
              "      <th>Close</th>\n",
              "      <th>Adj Close</th>\n",
              "      <th>Volume</th>\n",
              "      <th>CloseUSD</th>\n",
              "    </tr>\n",
              "  </thead>\n",
              "  <tbody>\n",
              "    <tr>\n",
              "      <th>32734</th>\n",
              "      <td>N225</td>\n",
              "      <td>1965-01-05</td>\n",
              "      <td>1257.719971</td>\n",
              "      <td>1257.719971</td>\n",
              "      <td>1257.719971</td>\n",
              "      <td>1257.719971</td>\n",
              "      <td>1257.719971</td>\n",
              "      <td>0.0</td>\n",
              "      <td>12.577200</td>\n",
              "    </tr>\n",
              "    <tr>\n",
              "      <th>32735</th>\n",
              "      <td>N225</td>\n",
              "      <td>1965-01-06</td>\n",
              "      <td>1263.989990</td>\n",
              "      <td>1263.989990</td>\n",
              "      <td>1263.989990</td>\n",
              "      <td>1263.989990</td>\n",
              "      <td>1263.989990</td>\n",
              "      <td>0.0</td>\n",
              "      <td>12.639900</td>\n",
              "    </tr>\n",
              "    <tr>\n",
              "      <th>32736</th>\n",
              "      <td>N225</td>\n",
              "      <td>1965-01-07</td>\n",
              "      <td>1274.270020</td>\n",
              "      <td>1274.270020</td>\n",
              "      <td>1274.270020</td>\n",
              "      <td>1274.270020</td>\n",
              "      <td>1274.270020</td>\n",
              "      <td>0.0</td>\n",
              "      <td>12.742700</td>\n",
              "    </tr>\n",
              "    <tr>\n",
              "      <th>32737</th>\n",
              "      <td>N225</td>\n",
              "      <td>1965-01-08</td>\n",
              "      <td>1286.430054</td>\n",
              "      <td>1286.430054</td>\n",
              "      <td>1286.430054</td>\n",
              "      <td>1286.430054</td>\n",
              "      <td>1286.430054</td>\n",
              "      <td>0.0</td>\n",
              "      <td>12.864301</td>\n",
              "    </tr>\n",
              "    <tr>\n",
              "      <th>32738</th>\n",
              "      <td>N225</td>\n",
              "      <td>1965-01-12</td>\n",
              "      <td>1288.540039</td>\n",
              "      <td>1288.540039</td>\n",
              "      <td>1288.540039</td>\n",
              "      <td>1288.540039</td>\n",
              "      <td>1288.540039</td>\n",
              "      <td>0.0</td>\n",
              "      <td>12.885400</td>\n",
              "    </tr>\n",
              "    <tr>\n",
              "      <th>...</th>\n",
              "      <td>...</td>\n",
              "      <td>...</td>\n",
              "      <td>...</td>\n",
              "      <td>...</td>\n",
              "      <td>...</td>\n",
              "      <td>...</td>\n",
              "      <td>...</td>\n",
              "      <td>...</td>\n",
              "      <td>...</td>\n",
              "    </tr>\n",
              "    <tr>\n",
              "      <th>83368</th>\n",
              "      <td>J203.JO</td>\n",
              "      <td>2019-07-09</td>\n",
              "      <td>57731.398440</td>\n",
              "      <td>57731.398440</td>\n",
              "      <td>56923.851560</td>\n",
              "      <td>56963.800780</td>\n",
              "      <td>56963.800780</td>\n",
              "      <td>0.0</td>\n",
              "      <td>3987.466055</td>\n",
              "    </tr>\n",
              "    <tr>\n",
              "      <th>83369</th>\n",
              "      <td>J203.JO</td>\n",
              "      <td>2019-07-10</td>\n",
              "      <td>56963.800780</td>\n",
              "      <td>57852.609380</td>\n",
              "      <td>56963.800780</td>\n",
              "      <td>57597.871090</td>\n",
              "      <td>57597.871090</td>\n",
              "      <td>0.0</td>\n",
              "      <td>4031.850976</td>\n",
              "    </tr>\n",
              "    <tr>\n",
              "      <th>83370</th>\n",
              "      <td>J203.JO</td>\n",
              "      <td>2019-07-11</td>\n",
              "      <td>57597.871090</td>\n",
              "      <td>58033.390630</td>\n",
              "      <td>57132.058590</td>\n",
              "      <td>57273.140630</td>\n",
              "      <td>57273.140630</td>\n",
              "      <td>0.0</td>\n",
              "      <td>4009.119844</td>\n",
              "    </tr>\n",
              "    <tr>\n",
              "      <th>83371</th>\n",
              "      <td>J203.JO</td>\n",
              "      <td>2019-07-12</td>\n",
              "      <td>57273.140630</td>\n",
              "      <td>57548.250000</td>\n",
              "      <td>57162.230470</td>\n",
              "      <td>57277.351560</td>\n",
              "      <td>57277.351560</td>\n",
              "      <td>0.0</td>\n",
              "      <td>4009.414609</td>\n",
              "    </tr>\n",
              "    <tr>\n",
              "      <th>83372</th>\n",
              "      <td>J203.JO</td>\n",
              "      <td>2019-07-15</td>\n",
              "      <td>57277.351560</td>\n",
              "      <td>57537.230470</td>\n",
              "      <td>57038.019530</td>\n",
              "      <td>57537.230470</td>\n",
              "      <td>57537.230470</td>\n",
              "      <td>0.0</td>\n",
              "      <td>4027.606133</td>\n",
              "    </tr>\n",
              "  </tbody>\n",
              "</table>\n",
              "<p>83373 rows × 9 columns</p>\n",
              "</div>"
            ],
            "text/plain": [
              "         Index       Date          Open  ...     Adj Close  Volume     CloseUSD\n",
              "32734     N225 1965-01-05   1257.719971  ...   1257.719971     0.0    12.577200\n",
              "32735     N225 1965-01-06   1263.989990  ...   1263.989990     0.0    12.639900\n",
              "32736     N225 1965-01-07   1274.270020  ...   1274.270020     0.0    12.742700\n",
              "32737     N225 1965-01-08   1286.430054  ...   1286.430054     0.0    12.864301\n",
              "32738     N225 1965-01-12   1288.540039  ...   1288.540039     0.0    12.885400\n",
              "...        ...        ...           ...  ...           ...     ...          ...\n",
              "83368  J203.JO 2019-07-09  57731.398440  ...  56963.800780     0.0  3987.466055\n",
              "83369  J203.JO 2019-07-10  56963.800780  ...  57597.871090     0.0  4031.850976\n",
              "83370  J203.JO 2019-07-11  57597.871090  ...  57273.140630     0.0  4009.119844\n",
              "83371  J203.JO 2019-07-12  57273.140630  ...  57277.351560     0.0  4009.414609\n",
              "83372  J203.JO 2019-07-15  57277.351560  ...  57537.230470     0.0  4027.606133\n",
              "\n",
              "[83373 rows x 9 columns]"
            ]
          },
          "metadata": {},
          "execution_count": 71
        }
      ]
    },
    {
      "cell_type": "markdown",
      "metadata": {
        "id": "wug6Oth25MP3"
      },
      "source": [
        "we will complement our features with more indicators such as WMA, STC, MOM, CCI where CCI act as a momentum base ocsillator, MOM will be replacing OBV instead of the steps we will look for the speed of the trend, STC complements MACD in looking for the momentum of a certain period."
      ]
    },
    {
      "cell_type": "code",
      "metadata": {
        "id": "lTuE04Bnw6yL"
      },
      "source": [
        "def calc_target(closing,open):\n",
        "  target = []\n",
        "  for open,close in zip(open,closing):\n",
        "    target.append(int(close > open))\n",
        "  return target\n",
        "def calc_MACD(EMA_12,EMA_26):\n",
        "  MACD = []\n",
        "  for first,second in zip(EMA_12,EMA_26):\n",
        "    MACD.append(first-second)\n",
        "  return MACD\n",
        "def add_indicators(df,days=50):\n",
        "  new_df = pd.DataFrame()\n",
        "  \n",
        "  for index in df.Index.unique():\n",
        "    df_index = df[df['Index']==index].reset_index(drop=True).copy()\n",
        "    ohlc = df_index[['Index','Open','High','Low','Close','Volume','Date']].set_index('Date').sort_index()\n",
        "    Indicators = pd.DataFrame({\n",
        "         'SMA' : TA.SMA(ohlc,column='Open'),\n",
        "         'EMA' : TA.EMA(ohlc,column='Open'),\n",
        "         'WMA' : TA.WMA(ohlc,column='Open'),\n",
        "         'RSI' : TA.RSI(ohlc,14,column='Open'),\n",
        "         'MOM' : TA.MOM(ohlc,column='Open'),\n",
        "         'STC' : TA.STC(ohlc,column='Open'),\n",
        "         'CCI' : TA.CCI(ohlc),\n",
        "         'Target' : calc_target(closing = ohlc['Close'],open = ohlc['Open']),\n",
        "         'MACD' : TA.MACD(ohlc,column='Open')['MACD'],\n",
        "         'SIG' : TA.MACD(ohlc,column='Open')['SIGNAL']\n",
        "         # 'Index' : ohlc['Index']\n",
        "         })\n",
        "    new_df = new_df.append(Indicators)\n",
        "  return new_df"
      ],
      "execution_count": null,
      "outputs": []
    },
    {
      "cell_type": "code",
      "metadata": {
        "id": "EMo7u6RtxyAn"
      },
      "source": [
        "new_df = add_indicators(df).sort_index().dropna()\n",
        "\n",
        "new_df_test = add_indicators(df_test).sort_index().dropna()"
      ],
      "execution_count": null,
      "outputs": []
    },
    {
      "cell_type": "markdown",
      "metadata": {
        "id": "R7TVx9Lw2gqI"
      },
      "source": [
        "Our model will try to understand the indicators.\n",
        "* for Moving Averages if the price is lower than the Moving Averages than it means the price is going up vice versa\n",
        "* MACD,STC if the value is greater than the price before than the price will go up vice versa\n",
        "* if MOM is positive than the price will go up vice versa\n",
        "* if RSI is lower than 30 means the price will go up, if it's bigger than 70 the price goes down otherwise if the CCI is between 30 and 70 than if RSI value is bigger than yesterday's RSI value than the price goes up vice versa.\n",
        "* if CCI is lower than -200 means the price will go up, if it's bigger than 200 the price goes down otherwise if the CCI is between -200 and 200 than if CCI value is bigger than yesterday's CCI value than the price goes up vice versa."
      ]
    },
    {
      "cell_type": "code",
      "metadata": {
        "id": "AVSZKCUfyOvI"
      },
      "source": [
        "new_df = new_df.append(new_df_test).reset_index(drop=True)\n",
        "from sklearn.model_selection import train_test_split\n",
        "\n",
        "new_df,new_df_test = train_test_split(new_df,test_size=.3,stratify=new_df['Target'])"
      ],
      "execution_count": null,
      "outputs": []
    },
    {
      "cell_type": "code",
      "metadata": {
        "id": "kstQNNEZXajz"
      },
      "source": [
        "new_df.to_csv('stock-market-train-clean.csv',index=False)\n",
        "new_df_test.to_csv('stock-market-test-clean.csv',index=False)"
      ],
      "execution_count": null,
      "outputs": []
    }
  ]
}