{
  "nbformat": 4,
  "nbformat_minor": 0,
  "metadata": {
    "colab": {
      "name": "Problem Statement.ipynb",
      "provenance": [],
      "collapsed_sections": []
    },
    "kernelspec": {
      "name": "python3",
      "display_name": "Python 3"
    },
    "language_info": {
      "name": "python"
    }
  },
  "cells": [
    {
      "cell_type": "markdown",
      "metadata": {
        "id": "l-AUveIetyQI"
      },
      "source": [
        "\n",
        "#Problem Statement¶\n",
        "##Context\n",
        "\n",
        "Stock market prediction has always been an interesting topic to many analyst and researcher and it is known to be one of the most challenging task because of it's many variable as a non-linear and non-stationary time series. However, as the field of machine learning techniques grows the application of it in stock market forecasting shows great promise.\n",
        "\n",
        "The aim of this project is to create a machine learning model able to predict the price direction of the stock market to a certain degree of accuracy.\n",
        "\n",
        "###Business Objective\n",
        "\n",
        "The objective of this project is to predict the direction of the stock market price to help investor make decision on making profits or having high gain over the stock in the stock market.\n",
        "\n",
        "###Limitation\n",
        "\n",
        "Because of the limitation of time and data, our project will be focused on a certain number of index. There are also limitation of knowledge in the broad area of financial market.\n",
        "\n",
        "###Output\n",
        "\n",
        "The output of this project is a prediction on the direction of the market stock trend wether it will go up or go down on the next day.\n",
        "\n",
        "###Machine Learning Task\n",
        "\n",
        "This project uses supervised learning with classification technique on a given stock market exchange prices dataset, with indicators such as Simple Moving Average (SMA), Exponential Moving Average (EMA), Moving Average Convergence Divergence (MACD) and Relative Strength Index (RSI) etc used as the input.\n",
        "\n",
        "###Performance Measure\n",
        "\n",
        "To measure our model we use classification metrics such as Precision,ROC AUC, Recall, and F1. We will focus on precision since our target data is imbalance and we want to know the correctness of our model (we can miss a few profit opportunity as long as our money is going to an appreciating stock).\n",
        "\n",
        "###Acknowledgements\n",
        "\n",
        "Data collected from Yahoo Finance\n"
      ]
    }
  ]
}
